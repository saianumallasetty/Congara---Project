{
 "cells": [
  {
   "cell_type": "code",
   "execution_count": 4,
   "metadata": {
    "colab": {
     "base_uri": "https://localhost:8080/"
    },
    "id": "qPikjjdwlgMh",
    "outputId": "6e3258be-6ab1-4306-e437-7cd8e925f5e8"
   },
   "outputs": [
    {
     "name": "stdout",
     "output_type": "stream",
     "text": [
      "Drive already mounted at /content/gdrive; to attempt to forcibly remount, call drive.mount(\"/content/gdrive\", force_remount=True).\n"
     ]
    }
   ],
   "source": [
    "from google.colab import drive\n",
    "drive.mount('/content/gdrive')"
   ]
  },
  {
   "cell_type": "code",
   "execution_count": 7,
   "metadata": {
    "id": "heMNnirmy0-V"
   },
   "outputs": [],
   "source": [
    "import pandas as pd\n",
    "import numpy as np\n",
    "import datetime\n",
    "import statsmodels.formula.api as smf\n",
    "import statsmodels.api as sm\n",
    "from sklearn.preprocessing import StandardScaler\n",
    "from scipy.stats import skew\n",
    "import matplotlib.pyplot as plt\n",
    "import seaborn as sns\n",
    "from collections import Counter\n",
    "import pandas as pd\n",
    "import numpy as np\n",
    "import datetime\n",
    "import statsmodels.formula.api as smf\n",
    "import statsmodels.api as sm\n",
    "from sklearn.preprocessing import StandardScaler\n",
    "from scipy.stats import skew\n",
    "import matplotlib.pyplot as plt\n",
    "import seaborn as sns \n",
    "from sklearn.model_selection import train_test_split \n",
    "from sklearn.linear_model import LinearRegression \n",
    "from sklearn import metrics \n",
    "import warnings\n",
    "warnings.filterwarnings(\"ignore\")"
   ]
  },
  {
   "cell_type": "code",
   "execution_count": 2,
   "metadata": {
    "id": "pW6DNkXFeUtQ"
   },
   "outputs": [],
   "source": [
    "df_table_18 = pd.read_excel('C:/Users/praka/Downloads/IRI_POS_Tablespreads_2018.xlsx')\n",
    "df_table_19 = pd.read_excel('C:/Users/praka/Downloads/IRI_POS_Tablespreads_2019.xlsx')\n",
    "df_table_20 = pd.read_excel('C:/Users/praka/Downloads/IRI_POS_Tablespreads_2020.xlsx')\n",
    "df_table_21 = pd.read_excel('C:/Users/praka/Downloads/IRI_POS_Tablespreads_2021.xlsx')\n",
    "df_table_22 = pd.read_excel('C:/Users/praka/Downloads/IRI_POS_Tablespreads_2022.xlsx')\n",
    "df_table_attributes = pd.read_excel('C:/Users/praka/Downloads/IRI_POS_Tablespreads_Product Attribute File.xlsx')\n",
    "df_cooking_salads = pd.read_excel('C:/Users/praka/Downloads/IRI_POS_Cooking & Salad Oils_2018-2022.xlsx')\n",
    "df_cooking_salads_attributes = pd.read_excel('C:/Users/praka/Downloads/IRI_POS_Cooking & Salad Oils_Product Attribute File.xlsx')\n",
    "df_cooking_sprays = pd.read_excel('C:/Users/praka/Downloads/IRI_POS_Cooking Sprays_2018-2022.xlsx')\n",
    "df_cooking_sprays_attributes = pd.read_excel('C:/Users/praka/Downloads/IRI_POS_Cooking Spray_Product Attribute File.xlsx')"
   ]
  },
  {
   "cell_type": "code",
   "execution_count": 20,
   "metadata": {
    "id": "40SMv8Pd5FvG"
   },
   "outputs": [],
   "source": [
    "df_table_attributes = pd.read_excel('C:/Users/praka/Downloads/IRI_POS_Tablespreads_Product Attribute File.xlsx')"
   ]
  },
  {
   "cell_type": "code",
   "execution_count": 21,
   "metadata": {
    "colab": {
     "base_uri": "https://localhost:8080/"
    },
    "id": "afOqj06dlc5M",
    "outputId": "32613bf5-5f37-447c-f184-acd91ced504b"
   },
   "outputs": [],
   "source": [
    "ll = ['UPC 13 digit','Geography','Price per Unit','Time','Base Unit Sales','Incremental Units','ACV Weighted Distribution No Merch','ACV Weighted Distribution Any Merch']\n",
    "df_table_18_qno2 = df_table_18[ll]\n",
    "df_table_19_qno2 = df_table_19[ll]\n",
    "df_table_20_qno2 = df_table_20[ll]\n",
    "df_table_21_qno2 = df_table_21[ll]\n",
    "df_table_22_qno2 = df_table_22[ll]\n",
    "df_table_18_qno2['Incremental Units'].fillna(df_table_18_qno2['Incremental Units'].mean(), inplace=True)\n",
    "df_table_18_qno2['ACV Weighted Distribution No Merch'].fillna(df_table_18_qno2['ACV Weighted Distribution No Merch'].mean(), inplace=True)\n",
    "df_table_18_qno2['ACV Weighted Distribution Any Merch'].fillna(df_table_18_qno2['ACV Weighted Distribution Any Merch'].mean(), inplace=True)\n",
    "df_table_19_qno2['Incremental Units'].fillna(df_table_19_qno2['Incremental Units'].mean(), inplace=True)\n",
    "df_table_19_qno2['ACV Weighted Distribution No Merch'].fillna(df_table_19_qno2['ACV Weighted Distribution No Merch'].mean(), inplace=True)\n",
    "df_table_19_qno2['ACV Weighted Distribution Any Merch'].fillna(df_table_19_qno2['ACV Weighted Distribution Any Merch'].mean(), inplace=True)\n",
    "df_table_20_qno2['Incremental Units'].fillna(df_table_20_qno2['Incremental Units'].mean(), inplace=True)\n",
    "df_table_20_qno2['ACV Weighted Distribution No Merch'].fillna(df_table_20_qno2['ACV Weighted Distribution No Merch'].mean(), inplace=True)\n",
    "df_table_20_qno2['ACV Weighted Distribution Any Merch'].fillna(df_table_20_qno2['ACV Weighted Distribution Any Merch'].mean(), inplace=True)\n",
    "df_table_21_qno2['Incremental Units'].fillna(df_table_21_qno2['Incremental Units'].mean(), inplace=True)\n",
    "df_table_21_qno2['ACV Weighted Distribution No Merch'].fillna(df_table_21_qno2['ACV Weighted Distribution No Merch'].mean(), inplace=True)\n",
    "df_table_21_qno2['ACV Weighted Distribution Any Merch'].fillna(df_table_21_qno2['ACV Weighted Distribution Any Merch'].mean(), inplace=True)\n",
    "df_table_22_qno2['Incremental Units'].fillna(df_table_22_qno2['Incremental Units'].mean(), inplace=True)\n",
    "df_table_22_qno2['ACV Weighted Distribution No Merch'].fillna(df_table_22_qno2['ACV Weighted Distribution No Merch'].mean(), inplace=True)\n",
    "df_table_22_qno2['ACV Weighted Distribution Any Merch'].fillna(df_table_22_qno2['ACV Weighted Distribution Any Merch'].mean(), inplace=True)"
   ]
  },
  {
   "cell_type": "code",
   "execution_count": 22,
   "metadata": {
    "colab": {
     "base_uri": "https://localhost:8080/"
    },
    "id": "iFmXxFb6s4zR",
    "outputId": "2bbe9519-cf68-4bc2-9c05-053415938f36"
   },
   "outputs": [],
   "source": [
    "df_table_18_qno2 = df_table_18_qno2[df_table_18_qno2.Geography == 'Total US - Multi Outlet + Conv']\n",
    "df_table_19_qno2 = df_table_19_qno2[df_table_19_qno2.Geography == 'Total US - Multi Outlet + Conv']\n",
    "df_table_20_qno2 = df_table_20_qno2[df_table_20_qno2.Geography == 'Total US - Multi Outlet + Conv']\n",
    "df_table_21_qno2 = df_table_21_qno2[df_table_21_qno2.Geography == 'Total US - Multi Outlet + Conv']\n",
    "df_table_22_qno2 = df_table_22_qno2[df_table_22_qno2.Geography == 'Total US - Multi Outlet + Conv']\n",
    "df_table_18_qno2['Sales'] = df_table_18_qno2['Base Unit Sales'] + df_table_18_qno2['Incremental Units']\n",
    "df_table_19_qno2['Sales'] = df_table_19_qno2['Base Unit Sales'] + df_table_19_qno2['Incremental Units']\n",
    "df_table_20_qno2['Sales'] = df_table_20_qno2['Base Unit Sales'] + df_table_20_qno2['Incremental Units']\n",
    "df_table_21_qno2['Sales'] = df_table_21_qno2['Base Unit Sales'] + df_table_21_qno2['Incremental Units']\n",
    "df_table_22_qno2['Sales'] = df_table_22_qno2['Base Unit Sales'] + df_table_22_qno2['Incremental Units']\n",
    "df_table_18_qno2['Time'] = pd.to_datetime(df_table_18_qno2['Time'], format='Week Ending %m-%d-%y')\n",
    "df_table_19_qno2['Time'] = pd.to_datetime(df_table_19_qno2['Time'], format='Week Ending %m-%d-%y')\n",
    "df_table_20_qno2['Time'] = pd.to_datetime(df_table_20_qno2['Time'], format='Week Ending %m-%d-%y')\n",
    "df_table_21_qno2['Time'] = pd.to_datetime(df_table_21_qno2['Time'], format='Week Ending %m-%d-%y')\n",
    "df_table_22_qno2['Time'] = pd.to_datetime(df_table_22_qno2['Time'], format='Week Ending %m-%d-%y')\n",
    "df_table_18_qno2.drop(['Geography','Base Unit Sales','Incremental Units'],axis=1,inplace=True)\n",
    "df_table_19_qno2.drop(['Geography','Base Unit Sales','Incremental Units'],axis=1,inplace=True)\n",
    "df_table_20_qno2.drop(['Geography','Base Unit Sales','Incremental Units'],axis=1,inplace=True)\n",
    "df_table_21_qno2.drop(['Geography','Base Unit Sales','Incremental Units'],axis=1,inplace=True)\n",
    "df_table_22_qno2.drop(['Geography','Base Unit Sales','Incremental Units'],axis=1,inplace=True)\n",
    "df_table_18_qno2 = df_table_18_qno2.groupby(['UPC 13 digit','Time']).sum().reset_index()\n",
    "df_table_19_qno2 = df_table_19_qno2.groupby(['UPC 13 digit','Time']).sum().reset_index()\n",
    "df_table_20_qno2 = df_table_20_qno2.groupby(['UPC 13 digit','Time']).sum().reset_index()\n",
    "df_table_21_qno2 = df_table_21_qno2.groupby(['UPC 13 digit','Time']).sum().reset_index()\n",
    "df_table_22_qno2 = df_table_22_qno2.groupby(['UPC 13 digit','Time']).sum().reset_index()\n",
    "df_table_18_qno2['Price ^ 2(tablespread)'] = df_table_18_qno2['Price per Unit'] ** 2\n",
    "df_table_19_qno2['Price ^ 2(tablespread)'] = df_table_19_qno2['Price per Unit'] ** 2\n",
    "df_table_20_qno2['Price ^ 2(tablespread)'] = df_table_20_qno2['Price per Unit'] ** 2\n",
    "df_table_21_qno2['Price ^ 2(tablespread)'] = df_table_21_qno2['Price per Unit'] ** 2\n",
    "df_table_22_qno2['Price ^ 2(tablespread)'] = df_table_22_qno2['Price per Unit'] ** 2"
   ]
  },
  {
   "cell_type": "code",
   "execution_count": 23,
   "metadata": {
    "colab": {
     "base_uri": "https://localhost:8080/"
    },
    "id": "6fKL8c34tOoQ",
    "outputId": "e15e51b7-f2c2-4e3b-fa33-ceb2e100a0f5"
   },
   "outputs": [
    {
     "data": {
      "text/plain": [
       "{'HAND & BODY LOTION', 'MARGARINE/SPREADS', 'RFG BUTTER', 'RFG BUTTER BLENDS'}"
      ]
     },
     "execution_count": 23,
     "metadata": {},
     "output_type": "execute_result"
    }
   ],
   "source": [
    "df_table_attributes.dropna(inplace=True)\n",
    "set(df_table_attributes['Sub-Category Name'])"
   ]
  },
  {
   "cell_type": "code",
   "execution_count": 24,
   "metadata": {
    "colab": {
     "base_uri": "https://localhost:8080/"
    },
    "id": "E_8pCv5QwFVf",
    "outputId": "f36a1e55-0764-47ce-bf73-34461640f5ed"
   },
   "outputs": [
    {
     "data": {
      "text/plain": [
       "Counter({'4 CT': 648,\n",
       "         '1 CT': 1452,\n",
       "         '8 CT': 12,\n",
       "         '2 CT': 129,\n",
       "         '12 CT': 4,\n",
       "         '10 CT': 1,\n",
       "         '3 CT': 10,\n",
       "         '16 CT': 5,\n",
       "         '200 CT': 2,\n",
       "         '252 CT': 1,\n",
       "         '6 CT': 3,\n",
       "         '5 CT': 5,\n",
       "         '300 CT': 1,\n",
       "         '480 CT': 1})"
      ]
     },
     "execution_count": 24,
     "metadata": {},
     "output_type": "execute_result"
    }
   ],
   "source": [
    "Counter(df_table_attributes['CAG Count Value'])"
   ]
  },
  {
   "cell_type": "code",
   "execution_count": 25,
   "metadata": {
    "colab": {
     "base_uri": "https://localhost:8080/"
    },
    "id": "0RTPYDI_ymKH",
    "outputId": "563956bc-77dd-47fe-9906-769e7fce441c"
   },
   "outputs": [
    {
     "data": {
      "text/plain": [
       "Counter({4: 648, 1: 1452, 8: 12, 2: 129, 12: 4, 3: 10, 16: 5, 5: 5})"
      ]
     },
     "execution_count": 25,
     "metadata": {},
     "output_type": "execute_result"
    }
   ],
   "source": [
    "df_table_attributes['CAG Ounces Value'] = df_table_attributes['CAG Ounces Value'].str.extract('(\\d+)').astype(int)\n",
    "df_table_attributes['CAG Count Value'] = df_table_attributes['CAG Count Value'].str.extract('(\\d+)').astype(int)\n",
    "df_table_attributes = df_table_attributes[df_table_attributes['CAG Count Value'].isin([1,2,3,4,5,8,12,16])]\n",
    "Counter(df_table_attributes['CAG Count Value'])"
   ]
  },
  {
   "cell_type": "code",
   "execution_count": 26,
   "metadata": {
    "colab": {
     "base_uri": "https://localhost:8080/"
    },
    "id": "qEOQvUWCDH9h",
    "outputId": "373fc0cd-fe83-4fe2-8a4c-ac88605731a3"
   },
   "outputs": [
    {
     "data": {
      "text/plain": [
       "Counter({'VALUE': 143,\n",
       "         'PREMIUM': 471,\n",
       "         'MAINSTREAM': 1098,\n",
       "         'SUPER PREMIUM': 527})"
      ]
     },
     "execution_count": 26,
     "metadata": {},
     "output_type": "execute_result"
    }
   ],
   "source": [
    "bins = [0, 16, 32, 48, float('inf')]\n",
    "\n",
    "# Define the labels for each category\n",
    "labels = ['1-16', '17-32', '32-48', '48+']\n",
    "\n",
    "df_table_attributes['Ounces'] = pd.cut(df_table_attributes['CAG Ounces Value'], bins=bins, labels=labels)\n",
    "df_table_attributes.drop(['CAG Ounces Value'],axis=1,inplace=True)\n",
    "df_table_attributes = df_table_attributes[~df_table_attributes['CAG Tier Value'].isin(['TBD'])]\n",
    "Counter(df_table_attributes['CAG Tier Value'])"
   ]
  },
  {
   "cell_type": "code",
   "execution_count": 27,
   "metadata": {
    "colab": {
     "base_uri": "https://localhost:8080/",
     "height": 1000
    },
    "id": "d3N6XKV3D2te",
    "outputId": "ba2110b3-19fa-4336-da1d-1c9d599ac1bd"
   },
   "outputs": [
    {
     "data": {
      "text/html": [
       "<div>\n",
       "<style scoped>\n",
       "    .dataframe tbody tr th:only-of-type {\n",
       "        vertical-align: middle;\n",
       "    }\n",
       "\n",
       "    .dataframe tbody tr th {\n",
       "        vertical-align: top;\n",
       "    }\n",
       "\n",
       "    .dataframe thead th {\n",
       "        text-align: right;\n",
       "    }\n",
       "</style>\n",
       "<table border=\"1\" class=\"dataframe\">\n",
       "  <thead>\n",
       "    <tr style=\"text-align: right;\">\n",
       "      <th></th>\n",
       "      <th>Geography</th>\n",
       "      <th>Time</th>\n",
       "      <th>Product</th>\n",
       "      <th>UPC 13 digit</th>\n",
       "      <th>CAG Major Brand Value</th>\n",
       "      <th>CAG Manufacturer Value</th>\n",
       "      <th>Sub-Category Name</th>\n",
       "      <th>CAG Category Value</th>\n",
       "      <th>CAG Count Value</th>\n",
       "      <th>CAG Form Value</th>\n",
       "      <th>Form</th>\n",
       "      <th>CAG Tier Value</th>\n",
       "      <th>Ounces</th>\n",
       "    </tr>\n",
       "  </thead>\n",
       "  <tbody>\n",
       "    <tr>\n",
       "      <th>1</th>\n",
       "      <td>Total US - Multi Outlet + Conv</td>\n",
       "      <td>Latest 52 Week Pd Ending 01-22-23</td>\n",
       "      <td>BLUE BONNET RFG MARGARINE INDIVDL WRAP IN BOX ...</td>\n",
       "      <td>27000008223</td>\n",
       "      <td>BLUE BONNET</td>\n",
       "      <td>CONAGRA BRANDS</td>\n",
       "      <td>MARGARINE/SPREADS</td>\n",
       "      <td>TABLESPREADS</td>\n",
       "      <td>4</td>\n",
       "      <td>STICKS</td>\n",
       "      <td>QUARTER</td>\n",
       "      <td>VALUE</td>\n",
       "      <td>1-16</td>\n",
       "    </tr>\n",
       "    <tr>\n",
       "      <th>2</th>\n",
       "      <td>Total US - Multi Outlet + Conv</td>\n",
       "      <td>Latest 52 Week Pd Ending 01-22-23</td>\n",
       "      <td>BLUE BONNET RFG VEGETABLE OIL SPREAD BOX SPREA...</td>\n",
       "      <td>27000008361</td>\n",
       "      <td>BLUE BONNET</td>\n",
       "      <td>CONAGRA BRANDS</td>\n",
       "      <td>MARGARINE/SPREADS</td>\n",
       "      <td>TABLESPREADS</td>\n",
       "      <td>1</td>\n",
       "      <td>STICKS</td>\n",
       "      <td>SPREAD</td>\n",
       "      <td>VALUE</td>\n",
       "      <td>1-16</td>\n",
       "    </tr>\n",
       "    <tr>\n",
       "      <th>3</th>\n",
       "      <td>Total US - Multi Outlet + Conv</td>\n",
       "      <td>Latest 52 Week Pd Ending 01-22-23</td>\n",
       "      <td>BLUE BONNET RFG VEGETABLE OIL SPREAD BOX SPREA...</td>\n",
       "      <td>29000008222</td>\n",
       "      <td>BLUE BONNET</td>\n",
       "      <td>CONAGRA BRANDS</td>\n",
       "      <td>MARGARINE/SPREADS</td>\n",
       "      <td>TABLESPREADS</td>\n",
       "      <td>1</td>\n",
       "      <td>ALL OTHER FORM</td>\n",
       "      <td>SPREAD</td>\n",
       "      <td>VALUE</td>\n",
       "      <td>1-16</td>\n",
       "    </tr>\n",
       "    <tr>\n",
       "      <th>4</th>\n",
       "      <td>Total US - Multi Outlet + Conv</td>\n",
       "      <td>Latest 52 Week Pd Ending 01-22-23</td>\n",
       "      <td>BLUE BONNET RFG VEGETABLE OIL SPREAD BOX SPREA...</td>\n",
       "      <td>29000008563</td>\n",
       "      <td>BLUE BONNET</td>\n",
       "      <td>CONAGRA BRANDS</td>\n",
       "      <td>MARGARINE/SPREADS</td>\n",
       "      <td>TABLESPREADS</td>\n",
       "      <td>1</td>\n",
       "      <td>STICKS</td>\n",
       "      <td>SPREAD</td>\n",
       "      <td>VALUE</td>\n",
       "      <td>1-16</td>\n",
       "    </tr>\n",
       "    <tr>\n",
       "      <th>5</th>\n",
       "      <td>Total US - Multi Outlet + Conv</td>\n",
       "      <td>Latest 52 Week Pd Ending 01-22-23</td>\n",
       "      <td>BLUE BONNET RFG VEGETABLE OIL SPREAD BOX SPREA...</td>\n",
       "      <td>2700710746763</td>\n",
       "      <td>BLUE BONNET</td>\n",
       "      <td>CONAGRA BRANDS</td>\n",
       "      <td>MARGARINE/SPREADS</td>\n",
       "      <td>TABLESPREADS</td>\n",
       "      <td>1</td>\n",
       "      <td>TUBS</td>\n",
       "      <td>SPREAD</td>\n",
       "      <td>VALUE</td>\n",
       "      <td>1-16</td>\n",
       "    </tr>\n",
       "    <tr>\n",
       "      <th>...</th>\n",
       "      <td>...</td>\n",
       "      <td>...</td>\n",
       "      <td>...</td>\n",
       "      <td>...</td>\n",
       "      <td>...</td>\n",
       "      <td>...</td>\n",
       "      <td>...</td>\n",
       "      <td>...</td>\n",
       "      <td>...</td>\n",
       "      <td>...</td>\n",
       "      <td>...</td>\n",
       "      <td>...</td>\n",
       "      <td>...</td>\n",
       "    </tr>\n",
       "    <tr>\n",
       "      <th>2290</th>\n",
       "      <td>Total US - Multi Outlet + Conv</td>\n",
       "      <td>Latest 52 Week Pd Ending 01-22-23</td>\n",
       "      <td>SMAKOWITA RFG BUTTER PAPER WRAPPED BLOCK 8.81 ...</td>\n",
       "      <td>5900311003391</td>\n",
       "      <td>SMAKOWITA</td>\n",
       "      <td>ZT KRUSZWICA S A</td>\n",
       "      <td>RFG BUTTER</td>\n",
       "      <td>TABLESPREADS</td>\n",
       "      <td>1</td>\n",
       "      <td>ALL OTHER FORM</td>\n",
       "      <td>BLOCK</td>\n",
       "      <td>MAINSTREAM</td>\n",
       "      <td>1-16</td>\n",
       "    </tr>\n",
       "    <tr>\n",
       "      <th>2291</th>\n",
       "      <td>Total US - Multi Outlet + Conv</td>\n",
       "      <td>Latest 52 Week Pd Ending 01-22-23</td>\n",
       "      <td>SMAKOWITA RFG MARGARINE PLASTIC TUB SPREAD 15 ...</td>\n",
       "      <td>5900311003991</td>\n",
       "      <td>SMAKOWITA</td>\n",
       "      <td>ZT KRUSZWICA S A</td>\n",
       "      <td>MARGARINE/SPREADS</td>\n",
       "      <td>TABLESPREADS</td>\n",
       "      <td>1</td>\n",
       "      <td>TUBS</td>\n",
       "      <td>SPREAD</td>\n",
       "      <td>MAINSTREAM</td>\n",
       "      <td>1-16</td>\n",
       "    </tr>\n",
       "    <tr>\n",
       "      <th>2292</th>\n",
       "      <td>Total US - Multi Outlet + Conv</td>\n",
       "      <td>Latest 52 Week Pd Ending 01-22-23</td>\n",
       "      <td>SMAKOWITA RFG MARGARINE PLASTIC TUB SPREAD 15 ...</td>\n",
       "      <td>5900311004001</td>\n",
       "      <td>SMAKOWITA</td>\n",
       "      <td>ZT KRUSZWICA S A</td>\n",
       "      <td>MARGARINE/SPREADS</td>\n",
       "      <td>TABLESPREADS</td>\n",
       "      <td>1</td>\n",
       "      <td>TUBS</td>\n",
       "      <td>SPREAD</td>\n",
       "      <td>MAINSTREAM</td>\n",
       "      <td>1-16</td>\n",
       "    </tr>\n",
       "    <tr>\n",
       "      <th>2293</th>\n",
       "      <td>Total US - Multi Outlet + Conv</td>\n",
       "      <td>Latest 52 Week Pd Ending 01-22-23</td>\n",
       "      <td>SMAKOWITA RFG MARGARINE PLASTIC TUB SPREAD 15....</td>\n",
       "      <td>5900311004081</td>\n",
       "      <td>SMAKOWITA</td>\n",
       "      <td>ZT KRUSZWICA S A</td>\n",
       "      <td>MARGARINE/SPREADS</td>\n",
       "      <td>TABLESPREADS</td>\n",
       "      <td>1</td>\n",
       "      <td>TUBS</td>\n",
       "      <td>SPREAD</td>\n",
       "      <td>MAINSTREAM</td>\n",
       "      <td>1-16</td>\n",
       "    </tr>\n",
       "    <tr>\n",
       "      <th>2294</th>\n",
       "      <td>Total US - Multi Outlet + Conv</td>\n",
       "      <td>Latest 52 Week Pd Ending 01-22-23</td>\n",
       "      <td>ZVIJEZDA RFG VEGETABLE OIL SPREAD PAPER WRAPPE...</td>\n",
       "      <td>897523290071</td>\n",
       "      <td>ZVIJEZDA</td>\n",
       "      <td>ZVIJEZDA D.D.</td>\n",
       "      <td>MARGARINE/SPREADS</td>\n",
       "      <td>TABLESPREADS</td>\n",
       "      <td>1</td>\n",
       "      <td>ALL OTHER FORM</td>\n",
       "      <td>BLOCK</td>\n",
       "      <td>MAINSTREAM</td>\n",
       "      <td>1-16</td>\n",
       "    </tr>\n",
       "  </tbody>\n",
       "</table>\n",
       "<p>2239 rows × 13 columns</p>\n",
       "</div>"
      ],
      "text/plain": [
       "                           Geography                               Time  \\\n",
       "1     Total US - Multi Outlet + Conv  Latest 52 Week Pd Ending 01-22-23   \n",
       "2     Total US - Multi Outlet + Conv  Latest 52 Week Pd Ending 01-22-23   \n",
       "3     Total US - Multi Outlet + Conv  Latest 52 Week Pd Ending 01-22-23   \n",
       "4     Total US - Multi Outlet + Conv  Latest 52 Week Pd Ending 01-22-23   \n",
       "5     Total US - Multi Outlet + Conv  Latest 52 Week Pd Ending 01-22-23   \n",
       "...                              ...                                ...   \n",
       "2290  Total US - Multi Outlet + Conv  Latest 52 Week Pd Ending 01-22-23   \n",
       "2291  Total US - Multi Outlet + Conv  Latest 52 Week Pd Ending 01-22-23   \n",
       "2292  Total US - Multi Outlet + Conv  Latest 52 Week Pd Ending 01-22-23   \n",
       "2293  Total US - Multi Outlet + Conv  Latest 52 Week Pd Ending 01-22-23   \n",
       "2294  Total US - Multi Outlet + Conv  Latest 52 Week Pd Ending 01-22-23   \n",
       "\n",
       "                                                Product   UPC 13 digit  \\\n",
       "1     BLUE BONNET RFG MARGARINE INDIVDL WRAP IN BOX ...    27000008223   \n",
       "2     BLUE BONNET RFG VEGETABLE OIL SPREAD BOX SPREA...    27000008361   \n",
       "3     BLUE BONNET RFG VEGETABLE OIL SPREAD BOX SPREA...    29000008222   \n",
       "4     BLUE BONNET RFG VEGETABLE OIL SPREAD BOX SPREA...    29000008563   \n",
       "5     BLUE BONNET RFG VEGETABLE OIL SPREAD BOX SPREA...  2700710746763   \n",
       "...                                                 ...            ...   \n",
       "2290  SMAKOWITA RFG BUTTER PAPER WRAPPED BLOCK 8.81 ...  5900311003391   \n",
       "2291  SMAKOWITA RFG MARGARINE PLASTIC TUB SPREAD 15 ...  5900311003991   \n",
       "2292  SMAKOWITA RFG MARGARINE PLASTIC TUB SPREAD 15 ...  5900311004001   \n",
       "2293  SMAKOWITA RFG MARGARINE PLASTIC TUB SPREAD 15....  5900311004081   \n",
       "2294  ZVIJEZDA RFG VEGETABLE OIL SPREAD PAPER WRAPPE...   897523290071   \n",
       "\n",
       "     CAG Major Brand Value CAG Manufacturer Value  Sub-Category Name  \\\n",
       "1              BLUE BONNET         CONAGRA BRANDS  MARGARINE/SPREADS   \n",
       "2              BLUE BONNET         CONAGRA BRANDS  MARGARINE/SPREADS   \n",
       "3              BLUE BONNET         CONAGRA BRANDS  MARGARINE/SPREADS   \n",
       "4              BLUE BONNET         CONAGRA BRANDS  MARGARINE/SPREADS   \n",
       "5              BLUE BONNET         CONAGRA BRANDS  MARGARINE/SPREADS   \n",
       "...                    ...                    ...                ...   \n",
       "2290             SMAKOWITA       ZT KRUSZWICA S A         RFG BUTTER   \n",
       "2291             SMAKOWITA       ZT KRUSZWICA S A  MARGARINE/SPREADS   \n",
       "2292             SMAKOWITA       ZT KRUSZWICA S A  MARGARINE/SPREADS   \n",
       "2293             SMAKOWITA       ZT KRUSZWICA S A  MARGARINE/SPREADS   \n",
       "2294              ZVIJEZDA          ZVIJEZDA D.D.  MARGARINE/SPREADS   \n",
       "\n",
       "     CAG Category Value  CAG Count Value  CAG Form Value     Form  \\\n",
       "1          TABLESPREADS                4          STICKS  QUARTER   \n",
       "2          TABLESPREADS                1          STICKS   SPREAD   \n",
       "3          TABLESPREADS                1  ALL OTHER FORM   SPREAD   \n",
       "4          TABLESPREADS                1          STICKS   SPREAD   \n",
       "5          TABLESPREADS                1            TUBS   SPREAD   \n",
       "...                 ...              ...             ...      ...   \n",
       "2290       TABLESPREADS                1  ALL OTHER FORM    BLOCK   \n",
       "2291       TABLESPREADS                1            TUBS   SPREAD   \n",
       "2292       TABLESPREADS                1            TUBS   SPREAD   \n",
       "2293       TABLESPREADS                1            TUBS   SPREAD   \n",
       "2294       TABLESPREADS                1  ALL OTHER FORM    BLOCK   \n",
       "\n",
       "     CAG Tier Value Ounces  \n",
       "1             VALUE   1-16  \n",
       "2             VALUE   1-16  \n",
       "3             VALUE   1-16  \n",
       "4             VALUE   1-16  \n",
       "5             VALUE   1-16  \n",
       "...             ...    ...  \n",
       "2290     MAINSTREAM   1-16  \n",
       "2291     MAINSTREAM   1-16  \n",
       "2292     MAINSTREAM   1-16  \n",
       "2293     MAINSTREAM   1-16  \n",
       "2294     MAINSTREAM   1-16  \n",
       "\n",
       "[2239 rows x 13 columns]"
      ]
     },
     "execution_count": 27,
     "metadata": {},
     "output_type": "execute_result"
    }
   ],
   "source": [
    "df_table_attributes"
   ]
  },
  {
   "cell_type": "code",
   "execution_count": 28,
   "metadata": {
    "id": "ypWQB62hyuGI"
   },
   "outputs": [],
   "source": [
    "ll = ['UPC 13 digit','Sub-Category Name','CAG Count Value','CAG Form Value','Ounces','CAG Tier Value']\n",
    "upc_list = df_table_attributes[df_table_attributes['CAG Manufacturer Value'] == 'CONAGRA BRANDS']['UPC 13 digit'].to_list()\n",
    "df_table_attribute = df_table_attributes[ll]\n",
    "arr = list(df_table_18_qno2['UPC 13 digit'])\n",
    "ans = []\n",
    "def fun(arr,upc_list):\n",
    "    ans = []\n",
    "    for i in arr:\n",
    "        if i in upc_list:\n",
    "            ans.append(1)\n",
    "        else:\n",
    "            ans.append(0)\n",
    "    return ans\n",
    "arr = list(df_table_18_qno2['UPC 13 digit'])\n",
    "ans = fun(arr,upc_list)\n",
    "df_table_18_qno2['CAG'] = np.array(ans)\n",
    "arr = list(df_table_19_qno2['UPC 13 digit'])\n",
    "ans = fun(arr,upc_list)\n",
    "df_table_19_qno2['CAG'] = np.array(ans)\n",
    "arr = list(df_table_20_qno2['UPC 13 digit'])\n",
    "ans = fun(arr,upc_list)\n",
    "df_table_20_qno2['CAG'] = np.array(ans)\n",
    "arr = list(df_table_21_qno2['UPC 13 digit'])\n",
    "ans = fun(arr,upc_list)\n",
    "df_table_21_qno2['CAG'] = np.array(ans)\n",
    "arr = list(df_table_22_qno2['UPC 13 digit'])\n",
    "ans = fun(arr,upc_list)\n",
    "df_table_22_qno2['CAG'] = np.array(ans)"
   ]
  },
  {
   "cell_type": "code",
   "execution_count": 29,
   "metadata": {
    "id": "pacg2RmY03tD"
   },
   "outputs": [],
   "source": [
    "merge_dataset_qno2_18 = pd.merge(df_table_18_qno2,df_table_attribute, on=['UPC 13 digit'])\n",
    "merge_dataset_qno2_19 = pd.merge(df_table_19_qno2,df_table_attribute, on=['UPC 13 digit'])\n",
    "merge_dataset_qno2_20 = pd.merge(df_table_20_qno2,df_table_attribute, on=['UPC 13 digit'])\n",
    "merge_dataset_qno2_21 = pd.merge(df_table_21_qno2,df_table_attribute, on=['UPC 13 digit'])\n",
    "merge_dataset_qno2_22 = pd.merge(df_table_22_qno2,df_table_attribute, on=['UPC 13 digit'])"
   ]
  },
  {
   "cell_type": "code",
   "execution_count": 30,
   "metadata": {
    "colab": {
     "base_uri": "https://localhost:8080/",
     "height": 696
    },
    "id": "DkQYThNi1-1M",
    "outputId": "d2fd0729-6c33-4aac-95e6-c4642a2ffda6"
   },
   "outputs": [
    {
     "data": {
      "text/html": [
       "<div>\n",
       "<style scoped>\n",
       "    .dataframe tbody tr th:only-of-type {\n",
       "        vertical-align: middle;\n",
       "    }\n",
       "\n",
       "    .dataframe tbody tr th {\n",
       "        vertical-align: top;\n",
       "    }\n",
       "\n",
       "    .dataframe thead th {\n",
       "        text-align: right;\n",
       "    }\n",
       "</style>\n",
       "<table border=\"1\" class=\"dataframe\">\n",
       "  <thead>\n",
       "    <tr style=\"text-align: right;\">\n",
       "      <th></th>\n",
       "      <th>UPC 13 digit</th>\n",
       "      <th>Time</th>\n",
       "      <th>Price per Unit</th>\n",
       "      <th>ACV Weighted Distribution No Merch</th>\n",
       "      <th>ACV Weighted Distribution Any Merch</th>\n",
       "      <th>Sales</th>\n",
       "      <th>Price ^ 2(tablespread)</th>\n",
       "      <th>CAG</th>\n",
       "      <th>Sub-Category Name</th>\n",
       "      <th>CAG Count Value</th>\n",
       "      <th>CAG Form Value</th>\n",
       "      <th>Ounces</th>\n",
       "      <th>CAG Tier Value</th>\n",
       "    </tr>\n",
       "  </thead>\n",
       "  <tbody>\n",
       "    <tr>\n",
       "      <th>0</th>\n",
       "      <td>2027344</td>\n",
       "      <td>2018-06-24</td>\n",
       "      <td>6.116850</td>\n",
       "      <td>0.090243</td>\n",
       "      <td>2.410011</td>\n",
       "      <td>2734.576498</td>\n",
       "      <td>37.415848</td>\n",
       "      <td>0</td>\n",
       "      <td>RFG BUTTER</td>\n",
       "      <td>4</td>\n",
       "      <td>STICKS</td>\n",
       "      <td>1-16</td>\n",
       "      <td>MAINSTREAM</td>\n",
       "    </tr>\n",
       "    <tr>\n",
       "      <th>1</th>\n",
       "      <td>2027344</td>\n",
       "      <td>2018-07-01</td>\n",
       "      <td>6.550669</td>\n",
       "      <td>0.385227</td>\n",
       "      <td>2.410011</td>\n",
       "      <td>3237.648816</td>\n",
       "      <td>42.911261</td>\n",
       "      <td>0</td>\n",
       "      <td>RFG BUTTER</td>\n",
       "      <td>4</td>\n",
       "      <td>STICKS</td>\n",
       "      <td>1-16</td>\n",
       "      <td>MAINSTREAM</td>\n",
       "    </tr>\n",
       "    <tr>\n",
       "      <th>2</th>\n",
       "      <td>2027344</td>\n",
       "      <td>2018-07-08</td>\n",
       "      <td>6.246198</td>\n",
       "      <td>0.262557</td>\n",
       "      <td>0.200398</td>\n",
       "      <td>708.492452</td>\n",
       "      <td>39.014993</td>\n",
       "      <td>0</td>\n",
       "      <td>RFG BUTTER</td>\n",
       "      <td>4</td>\n",
       "      <td>STICKS</td>\n",
       "      <td>1-16</td>\n",
       "      <td>MAINSTREAM</td>\n",
       "    </tr>\n",
       "    <tr>\n",
       "      <th>3</th>\n",
       "      <td>2027344</td>\n",
       "      <td>2018-07-15</td>\n",
       "      <td>6.197467</td>\n",
       "      <td>0.333001</td>\n",
       "      <td>0.201977</td>\n",
       "      <td>927.052683</td>\n",
       "      <td>38.408598</td>\n",
       "      <td>0</td>\n",
       "      <td>RFG BUTTER</td>\n",
       "      <td>4</td>\n",
       "      <td>STICKS</td>\n",
       "      <td>1-16</td>\n",
       "      <td>MAINSTREAM</td>\n",
       "    </tr>\n",
       "    <tr>\n",
       "      <th>4</th>\n",
       "      <td>2027344</td>\n",
       "      <td>2018-07-22</td>\n",
       "      <td>6.152511</td>\n",
       "      <td>0.357737</td>\n",
       "      <td>0.175108</td>\n",
       "      <td>939.500437</td>\n",
       "      <td>37.853395</td>\n",
       "      <td>0</td>\n",
       "      <td>RFG BUTTER</td>\n",
       "      <td>4</td>\n",
       "      <td>STICKS</td>\n",
       "      <td>1-16</td>\n",
       "      <td>MAINSTREAM</td>\n",
       "    </tr>\n",
       "    <tr>\n",
       "      <th>...</th>\n",
       "      <td>...</td>\n",
       "      <td>...</td>\n",
       "      <td>...</td>\n",
       "      <td>...</td>\n",
       "      <td>...</td>\n",
       "      <td>...</td>\n",
       "      <td>...</td>\n",
       "      <td>...</td>\n",
       "      <td>...</td>\n",
       "      <td>...</td>\n",
       "      <td>...</td>\n",
       "      <td>...</td>\n",
       "      <td>...</td>\n",
       "    </tr>\n",
       "    <tr>\n",
       "      <th>66217</th>\n",
       "      <td>8722700781152</td>\n",
       "      <td>2018-12-02</td>\n",
       "      <td>2.890000</td>\n",
       "      <td>0.021971</td>\n",
       "      <td>2.410011</td>\n",
       "      <td>2702.438557</td>\n",
       "      <td>8.352100</td>\n",
       "      <td>0</td>\n",
       "      <td>MARGARINE/SPREADS</td>\n",
       "      <td>1</td>\n",
       "      <td>TUBS</td>\n",
       "      <td>1-16</td>\n",
       "      <td>MAINSTREAM</td>\n",
       "    </tr>\n",
       "    <tr>\n",
       "      <th>66218</th>\n",
       "      <td>8722700781152</td>\n",
       "      <td>2018-12-09</td>\n",
       "      <td>2.890000</td>\n",
       "      <td>0.021621</td>\n",
       "      <td>2.410011</td>\n",
       "      <td>2667.534540</td>\n",
       "      <td>8.352100</td>\n",
       "      <td>0</td>\n",
       "      <td>MARGARINE/SPREADS</td>\n",
       "      <td>1</td>\n",
       "      <td>TUBS</td>\n",
       "      <td>1-16</td>\n",
       "      <td>MAINSTREAM</td>\n",
       "    </tr>\n",
       "    <tr>\n",
       "      <th>66219</th>\n",
       "      <td>8722700781152</td>\n",
       "      <td>2018-12-16</td>\n",
       "      <td>2.890000</td>\n",
       "      <td>0.021735</td>\n",
       "      <td>2.410011</td>\n",
       "      <td>2702.549318</td>\n",
       "      <td>8.352100</td>\n",
       "      <td>0</td>\n",
       "      <td>MARGARINE/SPREADS</td>\n",
       "      <td>1</td>\n",
       "      <td>TUBS</td>\n",
       "      <td>1-16</td>\n",
       "      <td>MAINSTREAM</td>\n",
       "    </tr>\n",
       "    <tr>\n",
       "      <th>66220</th>\n",
       "      <td>8722700781152</td>\n",
       "      <td>2018-12-23</td>\n",
       "      <td>2.890000</td>\n",
       "      <td>0.022162</td>\n",
       "      <td>2.410011</td>\n",
       "      <td>2702.515507</td>\n",
       "      <td>8.352100</td>\n",
       "      <td>0</td>\n",
       "      <td>MARGARINE/SPREADS</td>\n",
       "      <td>1</td>\n",
       "      <td>TUBS</td>\n",
       "      <td>1-16</td>\n",
       "      <td>MAINSTREAM</td>\n",
       "    </tr>\n",
       "    <tr>\n",
       "      <th>66221</th>\n",
       "      <td>8722700781152</td>\n",
       "      <td>2019-01-06</td>\n",
       "      <td>2.890000</td>\n",
       "      <td>0.022659</td>\n",
       "      <td>2.410011</td>\n",
       "      <td>2684.408064</td>\n",
       "      <td>8.352100</td>\n",
       "      <td>0</td>\n",
       "      <td>MARGARINE/SPREADS</td>\n",
       "      <td>1</td>\n",
       "      <td>TUBS</td>\n",
       "      <td>1-16</td>\n",
       "      <td>MAINSTREAM</td>\n",
       "    </tr>\n",
       "  </tbody>\n",
       "</table>\n",
       "<p>66222 rows × 13 columns</p>\n",
       "</div>"
      ],
      "text/plain": [
       "        UPC 13 digit       Time  Price per Unit  \\\n",
       "0            2027344 2018-06-24        6.116850   \n",
       "1            2027344 2018-07-01        6.550669   \n",
       "2            2027344 2018-07-08        6.246198   \n",
       "3            2027344 2018-07-15        6.197467   \n",
       "4            2027344 2018-07-22        6.152511   \n",
       "...              ...        ...             ...   \n",
       "66217  8722700781152 2018-12-02        2.890000   \n",
       "66218  8722700781152 2018-12-09        2.890000   \n",
       "66219  8722700781152 2018-12-16        2.890000   \n",
       "66220  8722700781152 2018-12-23        2.890000   \n",
       "66221  8722700781152 2019-01-06        2.890000   \n",
       "\n",
       "       ACV Weighted Distribution No Merch  \\\n",
       "0                                0.090243   \n",
       "1                                0.385227   \n",
       "2                                0.262557   \n",
       "3                                0.333001   \n",
       "4                                0.357737   \n",
       "...                                   ...   \n",
       "66217                            0.021971   \n",
       "66218                            0.021621   \n",
       "66219                            0.021735   \n",
       "66220                            0.022162   \n",
       "66221                            0.022659   \n",
       "\n",
       "       ACV Weighted Distribution Any Merch        Sales  \\\n",
       "0                                 2.410011  2734.576498   \n",
       "1                                 2.410011  3237.648816   \n",
       "2                                 0.200398   708.492452   \n",
       "3                                 0.201977   927.052683   \n",
       "4                                 0.175108   939.500437   \n",
       "...                                    ...          ...   \n",
       "66217                             2.410011  2702.438557   \n",
       "66218                             2.410011  2667.534540   \n",
       "66219                             2.410011  2702.549318   \n",
       "66220                             2.410011  2702.515507   \n",
       "66221                             2.410011  2684.408064   \n",
       "\n",
       "       Price ^ 2(tablespread)  CAG  Sub-Category Name  CAG Count Value  \\\n",
       "0                   37.415848    0         RFG BUTTER                4   \n",
       "1                   42.911261    0         RFG BUTTER                4   \n",
       "2                   39.014993    0         RFG BUTTER                4   \n",
       "3                   38.408598    0         RFG BUTTER                4   \n",
       "4                   37.853395    0         RFG BUTTER                4   \n",
       "...                       ...  ...                ...              ...   \n",
       "66217                8.352100    0  MARGARINE/SPREADS                1   \n",
       "66218                8.352100    0  MARGARINE/SPREADS                1   \n",
       "66219                8.352100    0  MARGARINE/SPREADS                1   \n",
       "66220                8.352100    0  MARGARINE/SPREADS                1   \n",
       "66221                8.352100    0  MARGARINE/SPREADS                1   \n",
       "\n",
       "      CAG Form Value Ounces CAG Tier Value  \n",
       "0             STICKS   1-16     MAINSTREAM  \n",
       "1             STICKS   1-16     MAINSTREAM  \n",
       "2             STICKS   1-16     MAINSTREAM  \n",
       "3             STICKS   1-16     MAINSTREAM  \n",
       "4             STICKS   1-16     MAINSTREAM  \n",
       "...              ...    ...            ...  \n",
       "66217           TUBS   1-16     MAINSTREAM  \n",
       "66218           TUBS   1-16     MAINSTREAM  \n",
       "66219           TUBS   1-16     MAINSTREAM  \n",
       "66220           TUBS   1-16     MAINSTREAM  \n",
       "66221           TUBS   1-16     MAINSTREAM  \n",
       "\n",
       "[66222 rows x 13 columns]"
      ]
     },
     "execution_count": 30,
     "metadata": {},
     "output_type": "execute_result"
    }
   ],
   "source": [
    "merge_dataset_qno2_18"
   ]
  },
  {
   "cell_type": "code",
   "execution_count": 31,
   "metadata": {
    "colab": {
     "base_uri": "https://localhost:8080/"
    },
    "id": "0_-C6eGM450Y",
    "outputId": "d69fb46e-a3ef-4158-e52a-84a1dd7e0840"
   },
   "outputs": [
    {
     "data": {
      "text/plain": [
       "Index([                       'UPC 13 digit',\n",
       "                                      'Time',\n",
       "                            'Price per Unit',\n",
       "        'ACV Weighted Distribution No Merch',\n",
       "       'ACV Weighted Distribution Any Merch',\n",
       "                                     'Sales',\n",
       "                    'Price ^ 2(tablespread)',\n",
       "                                       'CAG',\n",
       "                         'Sub-Category Name',\n",
       "                           'CAG Count Value',\n",
       "                            'CAG Form Value',\n",
       "                                    'Ounces',\n",
       "                            'CAG Tier Value',\n",
       "                                           1,\n",
       "                                           2,\n",
       "                                           3,\n",
       "                                           4,\n",
       "                                           5,\n",
       "                                           8,\n",
       "                                          12,\n",
       "                                          16],\n",
       "      dtype='object')"
      ]
     },
     "execution_count": 31,
     "metadata": {},
     "output_type": "execute_result"
    }
   ],
   "source": [
    "one_hot = pd.get_dummies(merge_dataset_qno2_18['CAG Count Value'])\n",
    "merge_dataset_qno2_18 = pd.concat([merge_dataset_qno2_18, one_hot], axis=1)\n",
    "merge_dataset_qno2_18.columns"
   ]
  },
  {
   "cell_type": "code",
   "execution_count": 35,
   "metadata": {},
   "outputs": [
    {
     "data": {
      "text/plain": [
       "<AxesSubplot:xlabel='CAG', ylabel='Sales'>"
      ]
     },
     "execution_count": 35,
     "metadata": {},
     "output_type": "execute_result"
    },
    {
     "data": {
      "image/png": "[encoded data removed]",
      "text/plain": [
       "<Figure size 432x288 with 1 Axes>"
      ]
     },
     "metadata": {
      "needs_background": "light"
     },
     "output_type": "display_data"
    }
   ],
   "source": [
    "import matplotlib.pyplot as plt\n",
    "import seaborn as sns\n",
    "\n",
    "#create seaborn boxplots by group\n",
    "sns.boxplot(x='CAG', y='Sales', data=merge_dataset_qno2_18)"
   ]
  },
  {
   "cell_type": "code",
   "execution_count": 36,
   "metadata": {},
   "outputs": [
    {
     "data": {
      "text/plain": [
       "<AxesSubplot:xlabel='CAG Tier Value', ylabel='Sales'>"
      ]
     },
     "execution_count": 36,
     "metadata": {},
     "output_type": "execute_result"
    },
    {
     "data": {
      "image/png": "[encoded data removed]",
      "text/plain": [
       "<Figure size 432x288 with 1 Axes>"
      ]
     },
     "metadata": {
      "needs_background": "light"
     },
     "output_type": "display_data"
    }
   ],
   "source": [
    "import matplotlib.pyplot as plt\n",
    "import seaborn as sns\n",
    "\n",
    "#create seaborn boxplots by group\n",
    "sns.boxplot(x='CAG Tier Value', y='Sales', data=merge_dataset_qno2_18)"
   ]
  },
  {
   "cell_type": "code",
   "execution_count": 37,
   "metadata": {},
   "outputs": [
    {
     "data": {
      "text/plain": [
       "<AxesSubplot:xlabel='CAG Form Value', ylabel='Sales'>"
      ]
     },
     "execution_count": 37,
     "metadata": {},
     "output_type": "execute_result"
    },
    {
     "data": {
      "image/png": "[encoded data removed]",
      "text/plain": [
       "<Figure size 432x288 with 1 Axes>"
      ]
     },
     "metadata": {
      "needs_background": "light"
     },
     "output_type": "display_data"
    }
   ],
   "source": [
    "import matplotlib.pyplot as plt\n",
    "import seaborn as sns\n",
    "\n",
    "#create seaborn boxplots by group\n",
    "sns.boxplot(x='CAG Form Value', y='Sales', data=merge_dataset_qno2_18)"
   ]
  },
  {
   "cell_type": "code",
   "execution_count": 38,
   "metadata": {},
   "outputs": [
    {
     "data": {
      "text/plain": [
       "<AxesSubplot:xlabel='Sub-Category Name', ylabel='Sales'>"
      ]
     },
     "execution_count": 38,
     "metadata": {},
     "output_type": "execute_result"
    },
    {
     "data": {
      "image/png": "[encoded data removed]",
      "text/plain": [
       "<Figure size 432x288 with 1 Axes>"
      ]
     },
     "metadata": {
      "needs_background": "light"
     },
     "output_type": "display_data"
    }
   ],
   "source": [
    "import matplotlib.pyplot as plt\n",
    "import seaborn as sns\n",
    "\n",
    "#create seaborn boxplots by group\n",
    "sns.boxplot(x='Sub-Category Name', y='Sales', data=merge_dataset_qno2_18)"
   ]
  },
  {
   "cell_type": "code",
   "execution_count": 129,
   "metadata": {
    "colab": {
     "base_uri": "https://localhost:8080/"
    },
    "id": "XbGPfi7WHOAg",
    "outputId": "35abd20c-faa3-46b9-d770-1fa1190c8eab"
   },
   "outputs": [
    {
     "name": "stdout",
     "output_type": "stream",
     "text": [
      "                            OLS Regression Results                            \n",
      "==============================================================================\n",
      "Dep. Variable:                      y   R-squared:                       0.391\n",
      "Model:                            OLS   Adj. R-squared:                  0.391\n",
      "Method:                 Least Squares   F-statistic:                     3544.\n",
      "Date:                Fri, 21 Apr 2023   Prob (F-statistic):               0.00\n",
      "Time:                        23:22:59   Log-Likelihood:            -8.3304e+05\n",
      "No. Observations:               66222   AIC:                         1.666e+06\n",
      "Df Residuals:                   66209   BIC:                         1.666e+06\n",
      "Df Model:                          12                                         \n",
      "Covariance Type:            nonrobust                                         \n",
      "=======================================================================================================\n",
      "                                          coef    std err          t      P>|t|      [0.025      0.975]\n",
      "-------------------------------------------------------------------------------------------------------\n",
      "const                                4.031e+04   7041.259      5.725      0.000    2.65e+04    5.41e+04\n",
      "Price per Unit                      -2534.7279    150.072    -16.890      0.000   -2828.869   -2240.587\n",
      "ACV Weighted Distribution No Merch   4496.5122     32.839    136.924      0.000    4432.147    4560.877\n",
      "ACV Weighted Distribution Any Merch  8754.0751    140.902     62.129      0.000    8477.907    9030.243\n",
      "Price ^ 2(tablespread)                 33.1953      2.401     13.824      0.000      28.489      37.902\n",
      "CAG                                 -1.325e+04   1320.052    -10.037      0.000   -1.58e+04   -1.07e+04\n",
      "1                                   -4.838e+04   6963.512     -6.948      0.000    -6.2e+04   -3.47e+04\n",
      "2                                   -4.575e+04   7059.775     -6.480      0.000   -5.96e+04   -3.19e+04\n",
      "3                                   -3.405e+04   8289.382     -4.108      0.000   -5.03e+04   -1.78e+04\n",
      "4                                   -2.402e+04   6971.632     -3.445      0.001   -3.77e+04   -1.04e+04\n",
      "5                                   -4.918e+04   8515.678     -5.775      0.000   -6.59e+04   -3.25e+04\n",
      "8                                   -5.142e+04   8156.855     -6.304      0.000   -6.74e+04   -3.54e+04\n",
      "12                                   -2.57e+04   8460.339     -3.038      0.002   -4.23e+04   -9117.433\n",
      "==============================================================================\n",
      "Omnibus:                   143036.631   Durbin-Watson:                   0.259\n",
      "Prob(Omnibus):                  0.000   Jarque-Bera (JB):       1372991431.530\n",
      "Skew:                          19.167   Prob(JB):                         0.00\n",
      "Kurtosis:                     707.362   Cond. No.                     1.62e+04\n",
      "==============================================================================\n",
      "\n",
      "Notes:\n",
      "[1] Standard Errors assume that the covariance matrix of the errors is correctly specified.\n",
      "[2] The condition number is large, 1.62e+04. This might indicate that there are\n",
      "strong multicollinearity or other numerical problems.\n"
     ]
    }
   ],
   "source": [
    "x = merge_dataset_qno2_18[['Price per Unit','ACV Weighted Distribution No Merch','ACV Weighted Distribution Any Merch','Price ^ 2(tablespread)','CAG',1,2,3,4,5,8,12]]\n",
    "\n",
    "y = merge_dataset_qno2_18['Sales'].tolist()\n",
    "\n",
    "# adding the constant term\n",
    "x = sm.add_constant(x)\n",
    "\n",
    "# performing the regression\n",
    "# and fitting the model\n",
    "result = sm.OLS(y, x).fit()\n",
    "# printing the summary table\n",
    "print(result.summary())"
   ]
  },
  {
   "cell_type": "code",
   "execution_count": 130,
   "metadata": {
    "colab": {
     "base_uri": "https://localhost:8080/"
    },
    "id": "KI09kPw7HZer",
    "outputId": "ed03d32e-5275-463f-eeb4-c2bff3bd2bd7"
   },
   "outputs": [
    {
     "name": "stdout",
     "output_type": "stream",
     "text": [
      "                            OLS Regression Results                            \n",
      "==============================================================================\n",
      "Dep. Variable:                      y   R-squared:                       0.393\n",
      "Model:                            OLS   Adj. R-squared:                  0.393\n",
      "Method:                 Least Squares   F-statistic:                     2860.\n",
      "Date:                Fri, 21 Apr 2023   Prob (F-statistic):               0.00\n",
      "Time:                        23:29:03   Log-Likelihood:            -8.3293e+05\n",
      "No. Observations:               66222   AIC:                         1.666e+06\n",
      "Df Residuals:                   66206   BIC:                         1.666e+06\n",
      "Df Model:                          15                                         \n",
      "Covariance Type:            nonrobust                                         \n",
      "=======================================================================================================\n",
      "                                          coef    std err          t      P>|t|      [0.025      0.975]\n",
      "-------------------------------------------------------------------------------------------------------\n",
      "const                                 4.01e+04   7030.302      5.705      0.000    2.63e+04    5.39e+04\n",
      "Price per Unit                      -2517.1886    150.195    -16.760      0.000   -2811.570   -2222.807\n",
      "ACV Weighted Distribution No Merch   4502.3974     32.952    136.636      0.000    4437.812    4566.983\n",
      "ACV Weighted Distribution Any Merch  8818.2614    140.788     62.635      0.000    8542.317    9094.206\n",
      "Price ^ 2(tablespread)                 33.0025      2.401     13.744      0.000      28.296      37.709\n",
      "CAG                                  8249.8396   2386.231      3.457      0.001    3572.828    1.29e+04\n",
      "1                                   -4.856e+04   6952.227     -6.984      0.000   -6.22e+04   -3.49e+04\n",
      "2                                   -4.665e+04   7063.334     -6.605      0.000   -6.05e+04   -3.28e+04\n",
      "3                                   -3.413e+04   8275.620     -4.124      0.000   -5.04e+04   -1.79e+04\n",
      "4                                   -2.322e+04   6960.488     -3.336      0.001   -3.69e+04   -9575.621\n",
      "5                                   -4.912e+04   8501.821     -5.778      0.000   -6.58e+04   -3.25e+04\n",
      "8                                   -7.344e+04   8394.243     -8.749      0.000   -8.99e+04    -5.7e+04\n",
      "12                                  -2.579e+04   8446.296     -3.054      0.002   -4.23e+04   -9239.488\n",
      "CAG * 1                             -1.836e+04   2678.934     -6.852      0.000   -2.36e+04   -1.31e+04\n",
      "CAG * 2                             -1.394e+04   3589.687     -3.883      0.000    -2.1e+04   -6902.310\n",
      "CAG * 3                                      0          0        nan        nan           0           0\n",
      "CAG * 4                             -5.407e+04   3480.193    -15.535      0.000   -6.09e+04   -4.72e+04\n",
      "CAG * 5                                      0          0        nan        nan           0           0\n",
      "CAG * 8                              9.461e+04   8715.644     10.855      0.000    7.75e+04    1.12e+05\n",
      "CAG * 12                                     0          0        nan        nan           0           0\n",
      "==============================================================================\n",
      "Omnibus:                   143102.369   Durbin-Watson:                   0.261\n",
      "Prob(Omnibus):                  0.000   Jarque-Bera (JB):       1380380682.304\n",
      "Skew:                          19.186   Prob(JB):                         0.00\n",
      "Kurtosis:                     709.259   Cond. No.                          inf\n",
      "==============================================================================\n",
      "\n",
      "Notes:\n",
      "[1] Standard Errors assume that the covariance matrix of the errors is correctly specified.\n",
      "[2] The smallest eigenvalue is      0. This might indicate that there are\n",
      "strong multicollinearity problems or that the design matrix is singular.\n"
     ]
    },
    {
     "name": "stderr",
     "output_type": "stream",
     "text": [
      "/usr/local/lib/python3.9/dist-packages/statsmodels/regression/linear_model.py:1934: RuntimeWarning: divide by zero encountered in double_scalars\n",
      "  return np.sqrt(eigvals[0]/eigvals[-1])\n"
     ]
    }
   ],
   "source": [
    "merge_dataset_qno2_18['CAG * 1'] = merge_dataset_qno2_18['CAG'] * merge_dataset_qno2_18[1]\n",
    "merge_dataset_qno2_18['CAG * 2'] = merge_dataset_qno2_18['CAG'] * merge_dataset_qno2_18[2]\n",
    "merge_dataset_qno2_18['CAG * 3'] = merge_dataset_qno2_18['CAG'] * merge_dataset_qno2_18[3]\n",
    "merge_dataset_qno2_18['CAG * 4'] = merge_dataset_qno2_18['CAG'] * merge_dataset_qno2_18[4]\n",
    "merge_dataset_qno2_18['CAG * 5'] = merge_dataset_qno2_18['CAG'] * merge_dataset_qno2_18[5]\n",
    "merge_dataset_qno2_18['CAG * 8'] = merge_dataset_qno2_18['CAG'] * merge_dataset_qno2_18[8]\n",
    "merge_dataset_qno2_18['CAG * 12'] = merge_dataset_qno2_18['CAG'] * merge_dataset_qno2_18[12]\n",
    "x = merge_dataset_qno2_18[['Price per Unit','ACV Weighted Distribution No Merch','ACV Weighted Distribution Any Merch','Price ^ 2(tablespread)','CAG',1,2,3,4,5,8,12,'CAG * 1',\n",
    "                           'CAG * 2','CAG * 3','CAG * 4','CAG * 5','CAG * 8','CAG * 12']]\n",
    "\n",
    "y = merge_dataset_qno2_18['Sales'].tolist()\n",
    "\n",
    "# adding the constant term\n",
    "x = sm.add_constant(x)\n",
    "\n",
    "# performing the regression\n",
    "# and fitting the model\n",
    "result = sm.OLS(y, x).fit()\n",
    "# printing the summary table\n",
    "print(result.summary())"
   ]
  },
  {
   "cell_type": "code",
   "execution_count": 131,
   "metadata": {
    "colab": {
     "base_uri": "https://localhost:8080/"
    },
    "id": "yn9tfU9mKqEk",
    "outputId": "23cf4048-5d4a-435d-971f-dd1fcbb70cbe"
   },
   "outputs": [
    {
     "data": {
      "text/plain": [
       "Index([                       'UPC 13 digit',\n",
       "                                      'Time',\n",
       "                            'Price per Unit',\n",
       "        'ACV Weighted Distribution No Merch',\n",
       "       'ACV Weighted Distribution Any Merch',\n",
       "                                     'Sales',\n",
       "                    'Price ^ 2(tablespread)',\n",
       "                                       'CAG',\n",
       "                         'Sub-Category Name',\n",
       "                           'CAG Count Value',\n",
       "                            'CAG Form Value',\n",
       "                                    'Ounces',\n",
       "                            'CAG Tier Value',\n",
       "                                           1,\n",
       "                                           2,\n",
       "                                           3,\n",
       "                                           4,\n",
       "                                           5,\n",
       "                                           8,\n",
       "                                          12,\n",
       "                                          16,\n",
       "                                   'CAG * 1',\n",
       "                                   'CAG * 2',\n",
       "                                   'CAG * 3',\n",
       "                                   'CAG * 4',\n",
       "                                   'CAG * 5',\n",
       "                                   'CAG * 8',\n",
       "                                  'CAG * 12',\n",
       "                                      '1-16',\n",
       "                                     '17-32',\n",
       "                                     '32-48',\n",
       "                                       '48+'],\n",
       "      dtype='object')"
      ]
     },
     "execution_count": 131,
     "metadata": {},
     "output_type": "execute_result"
    }
   ],
   "source": [
    "one_hot = pd.get_dummies(merge_dataset_qno2_18['Ounces'])\n",
    "merge_dataset_qno2_18 = pd.concat([merge_dataset_qno2_18, one_hot], axis=1)\n",
    "merge_dataset_qno2_18.columns"
   ]
  },
  {
   "cell_type": "code",
   "execution_count": 133,
   "metadata": {
    "colab": {
     "base_uri": "https://localhost:8080/"
    },
    "id": "I5npLR7DH4ed",
    "outputId": "fa1dd3bc-6678-4bf9-e9b2-e18451c46a8a"
   },
   "outputs": [
    {
     "name": "stdout",
     "output_type": "stream",
     "text": [
      "                            OLS Regression Results                            \n",
      "==============================================================================\n",
      "Dep. Variable:                      y   R-squared:                       0.376\n",
      "Model:                            OLS   Adj. R-squared:                  0.376\n",
      "Method:                 Least Squares   F-statistic:                     4994.\n",
      "Date:                Fri, 21 Apr 2023   Prob (F-statistic):               0.00\n",
      "Time:                        23:35:52   Log-Likelihood:            -8.3384e+05\n",
      "No. Observations:               66222   AIC:                         1.668e+06\n",
      "Df Residuals:                   66213   BIC:                         1.668e+06\n",
      "Df Model:                           8                                         \n",
      "Covariance Type:            nonrobust                                         \n",
      "=======================================================================================================\n",
      "                                          coef    std err          t      P>|t|      [0.025      0.975]\n",
      "-------------------------------------------------------------------------------------------------------\n",
      "const                                1.606e+04   2840.646      5.653      0.000    1.05e+04    2.16e+04\n",
      "Price per Unit                      -2315.0490    152.051    -15.225      0.000   -2613.069   -2017.029\n",
      "ACV Weighted Distribution No Merch   4498.7913     33.072    136.031      0.000    4433.971    4563.612\n",
      "ACV Weighted Distribution Any Merch  8220.1519    141.789     57.975      0.000    7942.245    8498.059\n",
      "Price ^ 2(tablespread)                 25.9546      2.434     10.665      0.000      21.185      30.724\n",
      "CAG                                 -1.697e+04   1331.066    -12.753      0.000   -1.96e+04   -1.44e+04\n",
      "1-16                                -1.568e+04   2728.726     -5.744      0.000    -2.1e+04   -1.03e+04\n",
      "17-32                               -1.924e+04   3018.130     -6.373      0.000   -2.52e+04   -1.33e+04\n",
      "32-48                               -2.085e+04   2913.645     -7.157      0.000   -2.66e+04   -1.51e+04\n",
      "==============================================================================\n",
      "Omnibus:                   142788.325   Durbin-Watson:                   0.254\n",
      "Prob(Omnibus):                  0.000   Jarque-Bera (JB):       1340256893.847\n",
      "Skew:                          19.096   Prob(JB):                         0.00\n",
      "Kurtosis:                     698.898   Cond. No.                     4.41e+03\n",
      "==============================================================================\n",
      "\n",
      "Notes:\n",
      "[1] Standard Errors assume that the covariance matrix of the errors is correctly specified.\n",
      "[2] The condition number is large, 4.41e+03. This might indicate that there are\n",
      "strong multicollinearity or other numerical problems.\n"
     ]
    }
   ],
   "source": [
    "x = merge_dataset_qno2_18[['Price per Unit','ACV Weighted Distribution No Merch','ACV Weighted Distribution Any Merch','Price ^ 2(tablespread)','CAG','1-16','17-32','32-48']]\n",
    "\n",
    "y = merge_dataset_qno2_18['Sales'].tolist()\n",
    "\n",
    "# adding the constant term\n",
    "x = sm.add_constant(x)\n",
    "\n",
    "# performing the regression\n",
    "# and fitting the model\n",
    "result = sm.OLS(y, x).fit()\n",
    "# printing the summary table\n",
    "print(result.summary())"
   ]
  },
  {
   "cell_type": "code",
   "execution_count": 135,
   "metadata": {
    "colab": {
     "base_uri": "https://localhost:8080/"
    },
    "id": "7fMlgKtUK-J1",
    "outputId": "80b1f096-106a-47f4-c62e-3ff4c0000418"
   },
   "outputs": [
    {
     "name": "stdout",
     "output_type": "stream",
     "text": [
      "                            OLS Regression Results                            \n",
      "==============================================================================\n",
      "Dep. Variable:                      y   R-squared:                       0.377\n",
      "Model:                            OLS   Adj. R-squared:                  0.377\n",
      "Method:                 Least Squares   F-statistic:                     3643.\n",
      "Date:                Fri, 21 Apr 2023   Prob (F-statistic):               0.00\n",
      "Time:                        23:39:18   Log-Likelihood:            -8.3380e+05\n",
      "No. Observations:               66222   AIC:                         1.668e+06\n",
      "Df Residuals:                   66210   BIC:                         1.668e+06\n",
      "Df Model:                          11                                         \n",
      "Covariance Type:            nonrobust                                         \n",
      "=======================================================================================================\n",
      "                                          coef    std err          t      P>|t|      [0.025      0.975]\n",
      "-------------------------------------------------------------------------------------------------------\n",
      "const                                 1.45e+04   3016.231      4.808      0.000    8588.995    2.04e+04\n",
      "Price per Unit                      -2249.5884    152.596    -14.742      0.000   -2548.676   -1950.500\n",
      "ACV Weighted Distribution No Merch   4507.3323     33.110    136.131      0.000    4442.436    4572.228\n",
      "ACV Weighted Distribution Any Merch  8214.4903    141.748     57.951      0.000    7936.664    8492.316\n",
      "Price ^ 2(tablespread)                 25.3871      2.449     10.368      0.000      20.588      30.186\n",
      "CAG                                 -8748.5332   7913.036     -1.106      0.269   -2.43e+04    6761.015\n",
      "1-16                                -1.432e+04   2915.999     -4.912      0.000      -2e+04   -8609.372\n",
      "17-32                               -2.046e+04   3199.696     -6.395      0.000   -2.67e+04   -1.42e+04\n",
      "32-48                               -1.857e+04   3112.602     -5.965      0.000   -2.47e+04   -1.25e+04\n",
      "CAG * (1-16)                        -9230.6196   8050.890     -1.147      0.252    -2.5e+04    6549.124\n",
      "CAG * (17-32)                        4.885e+04   1.07e+04      4.587      0.000     2.8e+04    6.97e+04\n",
      "CAG * (32-48)                       -1.887e+04   8735.457     -2.160      0.031    -3.6e+04   -1743.841\n",
      "==============================================================================\n",
      "Omnibus:                   142886.149   Durbin-Watson:                   0.255\n",
      "Prob(Omnibus):                  0.000   Jarque-Bera (JB):       1346238785.135\n",
      "Skew:                          19.127   Prob(JB):                         0.00\n",
      "Kurtosis:                     700.450   Cond. No.                     1.33e+04\n",
      "==============================================================================\n",
      "\n",
      "Notes:\n",
      "[1] Standard Errors assume that the covariance matrix of the errors is correctly specified.\n",
      "[2] The condition number is large, 1.33e+04. This might indicate that there are\n",
      "strong multicollinearity or other numerical problems.\n"
     ]
    }
   ],
   "source": [
    "merge_dataset_qno2_18['CAG * (1-16)'] = merge_dataset_qno2_18['CAG'] * merge_dataset_qno2_18['1-16']\n",
    "merge_dataset_qno2_18['CAG * (17-32)'] = merge_dataset_qno2_18['CAG'] * merge_dataset_qno2_18['17-32']\n",
    "merge_dataset_qno2_18['CAG * (32-48)'] = merge_dataset_qno2_18['CAG'] * merge_dataset_qno2_18['32-48']\n",
    "x = merge_dataset_qno2_18[['Price per Unit','ACV Weighted Distribution No Merch','ACV Weighted Distribution Any Merch','Price ^ 2(tablespread)','CAG','1-16','17-32','32-48','CAG * (1-16)','CAG * (17-32)','CAG * (32-48)']]\n",
    "\n",
    "y = merge_dataset_qno2_18['Sales'].tolist()\n",
    "\n",
    "# adding the constant term\n",
    "x = sm.add_constant(x)\n",
    "\n",
    "# performing the regression\n",
    "# and fitting the model\n",
    "result = sm.OLS(y, x).fit()\n",
    "# printing the summary table\n",
    "print(result.summary())"
   ]
  },
  {
   "cell_type": "code",
   "execution_count": 136,
   "metadata": {
    "colab": {
     "base_uri": "https://localhost:8080/"
    },
    "id": "DAqGp7KuL5im",
    "outputId": "3ffc2480-8b6d-4eac-e927-39cf8afb0f28"
   },
   "outputs": [
    {
     "data": {
      "text/plain": [
       "Index([                       'UPC 13 digit',\n",
       "                                      'Time',\n",
       "                            'Price per Unit',\n",
       "        'ACV Weighted Distribution No Merch',\n",
       "       'ACV Weighted Distribution Any Merch',\n",
       "                                     'Sales',\n",
       "                    'Price ^ 2(tablespread)',\n",
       "                                       'CAG',\n",
       "                         'Sub-Category Name',\n",
       "                           'CAG Count Value',\n",
       "                            'CAG Form Value',\n",
       "                                    'Ounces',\n",
       "                            'CAG Tier Value',\n",
       "                                           1,\n",
       "                                           2,\n",
       "                                           3,\n",
       "                                           4,\n",
       "                                           5,\n",
       "                                           8,\n",
       "                                          12,\n",
       "                                          16,\n",
       "                                   'CAG * 1',\n",
       "                                   'CAG * 2',\n",
       "                                   'CAG * 3',\n",
       "                                   'CAG * 4',\n",
       "                                   'CAG * 5',\n",
       "                                   'CAG * 8',\n",
       "                                  'CAG * 12',\n",
       "                                      '1-16',\n",
       "                                     '17-32',\n",
       "                                     '32-48',\n",
       "                                       '48+',\n",
       "                              'CAG * (1-16)',\n",
       "                             'CAG * (17-32)',\n",
       "                             'CAG * (32-48)',\n",
       "                         'MARGARINE/SPREADS',\n",
       "                                'RFG BUTTER',\n",
       "                         'RFG BUTTER BLENDS'],\n",
       "      dtype='object')"
      ]
     },
     "execution_count": 136,
     "metadata": {},
     "output_type": "execute_result"
    }
   ],
   "source": [
    "one_hot = pd.get_dummies(merge_dataset_qno2_18['Sub-Category Name'])\n",
    "merge_dataset_qno2_18 = pd.concat([merge_dataset_qno2_18, one_hot], axis=1)\n",
    "merge_dataset_qno2_18.columns"
   ]
  },
  {
   "cell_type": "code",
   "execution_count": 137,
   "metadata": {
    "colab": {
     "base_uri": "https://localhost:8080/"
    },
    "id": "-g4W4SIWMtYz",
    "outputId": "1dd1d1f4-d857-43b9-c96a-459f96759ae0"
   },
   "outputs": [
    {
     "name": "stdout",
     "output_type": "stream",
     "text": [
      "                            OLS Regression Results                            \n",
      "==============================================================================\n",
      "Dep. Variable:                      y   R-squared:                       0.383\n",
      "Model:                            OLS   Adj. R-squared:                  0.383\n",
      "Method:                 Least Squares   F-statistic:                     5873.\n",
      "Date:                Fri, 21 Apr 2023   Prob (F-statistic):               0.00\n",
      "Time:                        23:43:43   Log-Likelihood:            -8.3348e+05\n",
      "No. Observations:               66222   AIC:                         1.667e+06\n",
      "Df Residuals:                   66214   BIC:                         1.667e+06\n",
      "Df Model:                           7                                         \n",
      "Covariance Type:            nonrobust                                         \n",
      "=======================================================================================================\n",
      "                                          coef    std err          t      P>|t|      [0.025      0.975]\n",
      "-------------------------------------------------------------------------------------------------------\n",
      "const                               -9115.6032   1074.562     -8.483      0.000   -1.12e+04   -7009.462\n",
      "Price per Unit                      -3988.7920    161.739    -24.662      0.000   -4305.800   -3671.784\n",
      "ACV Weighted Distribution No Merch   4584.8280     33.018    138.859      0.000    4520.113    4649.543\n",
      "ACV Weighted Distribution Any Merch  8250.3766    141.146     58.453      0.000    7973.730    8527.023\n",
      "Price ^ 2(tablespread)                 49.5970      2.525     19.642      0.000      44.648      54.546\n",
      "CAG                                 -8726.6523   1389.323     -6.281      0.000   -1.14e+04   -6003.579\n",
      "MARGARINE/SPREADS                    5032.1900   1066.063      4.720      0.000    2942.706    7121.674\n",
      "RFG BUTTER                           2.143e+04    986.926     21.711      0.000    1.95e+04    2.34e+04\n",
      "==============================================================================\n",
      "Omnibus:                   143127.940   Durbin-Watson:                   0.257\n",
      "Prob(Omnibus):                  0.000   Jarque-Bera (JB):       1369307908.230\n",
      "Skew:                          19.199   Prob(JB):                         0.00\n",
      "Kurtosis:                     706.411   Cond. No.                     1.35e+03\n",
      "==============================================================================\n",
      "\n",
      "Notes:\n",
      "[1] Standard Errors assume that the covariance matrix of the errors is correctly specified.\n",
      "[2] The condition number is large, 1.35e+03. This might indicate that there are\n",
      "strong multicollinearity or other numerical problems.\n"
     ]
    }
   ],
   "source": [
    "x = merge_dataset_qno2_18[['Price per Unit','ACV Weighted Distribution No Merch','ACV Weighted Distribution Any Merch','Price ^ 2(tablespread)','CAG','MARGARINE/SPREADS','RFG BUTTER']]\n",
    "\n",
    "y = merge_dataset_qno2_18['Sales'].tolist()\n",
    "\n",
    "# adding the constant term\n",
    "x = sm.add_constant(x)\n",
    "\n",
    "# performing the regression\n",
    "# and fitting the model\n",
    "result = sm.OLS(y, x).fit()\n",
    "# printing the summary table\n",
    "print(result.summary())"
   ]
  },
  {
   "cell_type": "code",
   "execution_count": 138,
   "metadata": {
    "colab": {
     "base_uri": "https://localhost:8080/"
    },
    "id": "NFyJJtBsM8lX",
    "outputId": "2c24d3be-cdd4-4820-9a33-b10a278dba02"
   },
   "outputs": [
    {
     "name": "stdout",
     "output_type": "stream",
     "text": [
      "                            OLS Regression Results                            \n",
      "==============================================================================\n",
      "Dep. Variable:                      y   R-squared:                       0.383\n",
      "Model:                            OLS   Adj. R-squared:                  0.383\n",
      "Method:                 Least Squares   F-statistic:                     5139.\n",
      "Date:                Fri, 21 Apr 2023   Prob (F-statistic):               0.00\n",
      "Time:                        23:46:34   Log-Likelihood:            -8.3348e+05\n",
      "No. Observations:               66222   AIC:                         1.667e+06\n",
      "Df Residuals:                   66213   BIC:                         1.667e+06\n",
      "Df Model:                           8                                         \n",
      "Covariance Type:            nonrobust                                         \n",
      "=======================================================================================================\n",
      "                                          coef    std err          t      P>|t|      [0.025      0.975]\n",
      "-------------------------------------------------------------------------------------------------------\n",
      "const                               -9462.3631   1086.311     -8.711      0.000   -1.16e+04   -7333.193\n",
      "Price per Unit                      -3976.2696    161.837    -24.570      0.000   -4293.470   -3659.070\n",
      "ACV Weighted Distribution No Merch   4588.9120     33.070    138.762      0.000    4524.094    4653.730\n",
      "ACV Weighted Distribution Any Merch  8248.0204    141.147     58.436      0.000    7971.373    8524.668\n",
      "Price ^ 2(tablespread)                 49.4381      2.526     19.572      0.000      44.487      54.389\n",
      "CAG                                  4470.4158   6228.867      0.718      0.473   -7738.163    1.67e+04\n",
      "MARGARINE/SPREADS                    5436.7389   1082.161      5.024      0.000    3315.704    7557.774\n",
      "RFG BUTTER                           2.172e+04    995.783     21.807      0.000    1.98e+04    2.37e+04\n",
      "CAG * Margarine                      -1.39e+04   6394.440     -2.173      0.030   -2.64e+04   -1364.863\n",
      "CAG * RFG BUTTER                             0          0        nan        nan           0           0\n",
      "==============================================================================\n",
      "Omnibus:                   143132.860   Durbin-Watson:                   0.257\n",
      "Prob(Omnibus):                  0.000   Jarque-Bera (JB):       1369646396.075\n",
      "Skew:                          19.201   Prob(JB):                         0.00\n",
      "Kurtosis:                     706.498   Cond. No.                          inf\n",
      "==============================================================================\n",
      "\n",
      "Notes:\n",
      "[1] Standard Errors assume that the covariance matrix of the errors is correctly specified.\n",
      "[2] The smallest eigenvalue is      0. This might indicate that there are\n",
      "strong multicollinearity problems or that the design matrix is singular.\n"
     ]
    },
    {
     "name": "stderr",
     "output_type": "stream",
     "text": [
      "/usr/local/lib/python3.9/dist-packages/statsmodels/regression/linear_model.py:1934: RuntimeWarning: divide by zero encountered in double_scalars\n",
      "  return np.sqrt(eigvals[0]/eigvals[-1])\n"
     ]
    }
   ],
   "source": [
    "merge_dataset_qno2_18['CAG * Margarine'] = merge_dataset_qno2_18['CAG'] * merge_dataset_qno2_18['MARGARINE/SPREADS']\n",
    "merge_dataset_qno2_18['CAG * RFG BUTTER'] = merge_dataset_qno2_18['CAG'] * merge_dataset_qno2_18['RFG BUTTER']\n",
    "x = merge_dataset_qno2_18[['Price per Unit','ACV Weighted Distribution No Merch','ACV Weighted Distribution Any Merch','Price ^ 2(tablespread)','CAG','MARGARINE/SPREADS','RFG BUTTER','CAG * Margarine',\n",
    "                           'CAG * RFG BUTTER']]\n",
    "\n",
    "y = merge_dataset_qno2_18['Sales'].tolist()\n",
    "\n",
    "# adding the constant term\n",
    "x = sm.add_constant(x)\n",
    "\n",
    "# performing the regression\n",
    "# and fitting the model\n",
    "result = sm.OLS(y, x).fit()\n",
    "# printing the summary table\n",
    "print(result.summary())"
   ]
  },
  {
   "cell_type": "code",
   "execution_count": 140,
   "metadata": {
    "colab": {
     "base_uri": "https://localhost:8080/"
    },
    "id": "603igNp_Nv3P",
    "outputId": "5a5efa49-8440-46b7-bd29-81a9fcaca999"
   },
   "outputs": [
    {
     "data": {
      "text/plain": [
       "Index([                       'UPC 13 digit',\n",
       "                                      'Time',\n",
       "                            'Price per Unit',\n",
       "        'ACV Weighted Distribution No Merch',\n",
       "       'ACV Weighted Distribution Any Merch',\n",
       "                                     'Sales',\n",
       "                    'Price ^ 2(tablespread)',\n",
       "                                       'CAG',\n",
       "                         'Sub-Category Name',\n",
       "                           'CAG Count Value',\n",
       "                            'CAG Form Value',\n",
       "                                    'Ounces',\n",
       "                            'CAG Tier Value',\n",
       "                                           1,\n",
       "                                           2,\n",
       "                                           3,\n",
       "                                           4,\n",
       "                                           5,\n",
       "                                           8,\n",
       "                                          12,\n",
       "                                          16,\n",
       "                                   'CAG * 1',\n",
       "                                   'CAG * 2',\n",
       "                                   'CAG * 3',\n",
       "                                   'CAG * 4',\n",
       "                                   'CAG * 5',\n",
       "                                   'CAG * 8',\n",
       "                                  'CAG * 12',\n",
       "                                      '1-16',\n",
       "                                     '17-32',\n",
       "                                     '32-48',\n",
       "                                       '48+',\n",
       "                              'CAG * (1-16)',\n",
       "                             'CAG * (17-32)',\n",
       "                             'CAG * (32-48)',\n",
       "                         'MARGARINE/SPREADS',\n",
       "                                'RFG BUTTER',\n",
       "                         'RFG BUTTER BLENDS',\n",
       "                           'CAG * Margarine',\n",
       "                          'CAG * RFG BUTTER',\n",
       "                                'MAINSTREAM',\n",
       "                                   'PREMIUM',\n",
       "                             'SUPER PREMIUM',\n",
       "                                     'VALUE'],\n",
       "      dtype='object')"
      ]
     },
     "execution_count": 140,
     "metadata": {},
     "output_type": "execute_result"
    }
   ],
   "source": [
    "one_hot = pd.get_dummies(merge_dataset_qno2_18['CAG Tier Value'])\n",
    "merge_dataset_qno2_18 = pd.concat([merge_dataset_qno2_18, one_hot], axis=1)\n",
    "merge_dataset_qno2_18.columns"
   ]
  },
  {
   "cell_type": "code",
   "execution_count": 141,
   "metadata": {
    "colab": {
     "base_uri": "https://localhost:8080/"
    },
    "id": "4ufITq7PODYx",
    "outputId": "6c6b7f96-7cc0-4e8a-b7fb-8e8feaa07507"
   },
   "outputs": [
    {
     "name": "stdout",
     "output_type": "stream",
     "text": [
      "                            OLS Regression Results                            \n",
      "==============================================================================\n",
      "Dep. Variable:                      y   R-squared:                       0.386\n",
      "Model:                            OLS   Adj. R-squared:                  0.386\n",
      "Method:                 Least Squares   F-statistic:                     5210.\n",
      "Date:                Fri, 21 Apr 2023   Prob (F-statistic):               0.00\n",
      "Time:                        23:49:46   Log-Likelihood:            -8.3330e+05\n",
      "No. Observations:               66222   AIC:                         1.667e+06\n",
      "Df Residuals:                   66213   BIC:                         1.667e+06\n",
      "Df Model:                           8                                         \n",
      "Covariance Type:            nonrobust                                         \n",
      "=======================================================================================================\n",
      "                                          coef    std err          t      P>|t|      [0.025      0.975]\n",
      "-------------------------------------------------------------------------------------------------------\n",
      "const                                 1.89e+04   1233.490     15.319      0.000    1.65e+04    2.13e+04\n",
      "Price per Unit                         50.1184    165.182      0.303      0.762    -273.638     373.875\n",
      "ACV Weighted Distribution No Merch   4441.6352     33.204    133.769      0.000    4376.556    4506.715\n",
      "ACV Weighted Distribution Any Merch  8672.4461    142.154     61.008      0.000    8393.825    8951.067\n",
      "Price ^ 2(tablespread)                 -3.1146      2.590     -1.203      0.229      -8.191       1.962\n",
      "CAG                                 -1.709e+04   1352.117    -12.640      0.000   -1.97e+04   -1.44e+04\n",
      "MAINSTREAM                          -2.194e+04   1213.025    -18.085      0.000   -2.43e+04   -1.96e+04\n",
      "PREMIUM                             -3.754e+04   1300.633    -28.861      0.000   -4.01e+04    -3.5e+04\n",
      "SUPER PREMIUM                       -3.742e+04   1329.465    -28.146      0.000      -4e+04   -3.48e+04\n",
      "==============================================================================\n",
      "Omnibus:                   143014.270   Durbin-Watson:                   0.258\n",
      "Prob(Omnibus):                  0.000   Jarque-Bera (JB):       1384470653.873\n",
      "Skew:                          19.155   Prob(JB):                         0.00\n",
      "Kurtosis:                     710.311   Cond. No.                     1.89e+03\n",
      "==============================================================================\n",
      "\n",
      "Notes:\n",
      "[1] Standard Errors assume that the covariance matrix of the errors is correctly specified.\n",
      "[2] The condition number is large, 1.89e+03. This might indicate that there are\n",
      "strong multicollinearity or other numerical problems.\n"
     ]
    }
   ],
   "source": [
    "x = merge_dataset_qno2_18[['Price per Unit','ACV Weighted Distribution No Merch','ACV Weighted Distribution Any Merch','Price ^ 2(tablespread)','CAG','MAINSTREAM','PREMIUM','SUPER PREMIUM']]\n",
    "\n",
    "y = merge_dataset_qno2_18['Sales'].tolist()\n",
    "\n",
    "# adding the constant term\n",
    "x = sm.add_constant(x)\n",
    "\n",
    "# performing the regression\n",
    "# and fitting the model\n",
    "result = sm.OLS(y, x).fit()\n",
    "# printing the summary table\n",
    "print(result.summary())"
   ]
  },
  {
   "cell_type": "code",
   "execution_count": 143,
   "metadata": {
    "colab": {
     "base_uri": "https://localhost:8080/"
    },
    "id": "I_lFWWAUOVOl",
    "outputId": "a2dbd846-2f42-49d1-bb60-65d3773214c7"
   },
   "outputs": [
    {
     "name": "stdout",
     "output_type": "stream",
     "text": [
      "                            OLS Regression Results                            \n",
      "==============================================================================\n",
      "Dep. Variable:                      y   R-squared:                       0.397\n",
      "Model:                            OLS   Adj. R-squared:                  0.397\n",
      "Method:                 Least Squares   F-statistic:                     4353.\n",
      "Date:                Fri, 21 Apr 2023   Prob (F-statistic):               0.00\n",
      "Time:                        23:55:30   Log-Likelihood:            -8.3274e+05\n",
      "No. Observations:               66222   AIC:                         1.665e+06\n",
      "Df Residuals:                   66211   BIC:                         1.666e+06\n",
      "Df Model:                          10                                         \n",
      "Covariance Type:            nonrobust                                         \n",
      "=======================================================================================================\n",
      "                                          coef    std err          t      P>|t|      [0.025      0.975]\n",
      "-------------------------------------------------------------------------------------------------------\n",
      "const                                4680.0533   1293.747      3.617      0.000    2144.310    7215.797\n",
      "Price per Unit                         17.8074    163.810      0.109      0.913    -303.259     338.874\n",
      "ACV Weighted Distribution No Merch   4447.4275     32.923    135.084      0.000    4382.897    4511.957\n",
      "ACV Weighted Distribution Any Merch  8689.2856    140.982     61.634      0.000    8412.961    8965.611\n",
      "Price ^ 2(tablespread)                 -2.8082      2.568     -1.093      0.274      -7.842       2.225\n",
      "CAG                                   368.9775   1103.771      0.334      0.738   -1794.414    2532.369\n",
      "MAINSTREAM                          -7142.3106   1282.257     -5.570      0.000   -9655.534   -4629.087\n",
      "PREMIUM                             -2.068e+04   1387.098    -14.910      0.000   -2.34e+04    -1.8e+04\n",
      "SUPER PREMIUM                       -2.311e+04   1385.036    -16.682      0.000   -2.58e+04   -2.04e+04\n",
      "CAG * MAINSTREAM                    -3.643e+04   2044.738    -17.817      0.000   -4.04e+04   -3.24e+04\n",
      "CAG * RFG PREMIUM                    -3.89e+04   1649.406    -23.582      0.000   -4.21e+04   -3.57e+04\n",
      "CAG * SUPER PREMIUM                          0          0        nan        nan           0           0\n",
      "CAG * VALUE                           7.57e+04   2413.984     31.357      0.000     7.1e+04    8.04e+04\n",
      "==============================================================================\n",
      "Omnibus:                   143210.730   Durbin-Watson:                   0.263\n",
      "Prob(Omnibus):                  0.000   Jarque-Bera (JB):       1437963026.891\n",
      "Skew:                          19.201   Prob(JB):                         0.00\n",
      "Kurtosis:                     723.880   Cond. No.                          inf\n",
      "==============================================================================\n",
      "\n",
      "Notes:\n",
      "[1] Standard Errors assume that the covariance matrix of the errors is correctly specified.\n",
      "[2] The smallest eigenvalue is      0. This might indicate that there are\n",
      "strong multicollinearity problems or that the design matrix is singular.\n"
     ]
    },
    {
     "name": "stderr",
     "output_type": "stream",
     "text": [
      "/usr/local/lib/python3.9/dist-packages/statsmodels/regression/linear_model.py:1934: RuntimeWarning: divide by zero encountered in double_scalars\n",
      "  return np.sqrt(eigvals[0]/eigvals[-1])\n"
     ]
    }
   ],
   "source": [
    "merge_dataset_qno2_18['CAG * MAINSTREAM'] = merge_dataset_qno2_18['CAG'] * merge_dataset_qno2_18['MAINSTREAM']\n",
    "merge_dataset_qno2_18['CAG * RFG PREMIUM'] = merge_dataset_qno2_18['CAG'] * merge_dataset_qno2_18['PREMIUM']\n",
    "merge_dataset_qno2_18['CAG * SUPER PREMIUM'] = merge_dataset_qno2_18['CAG'] * merge_dataset_qno2_18['SUPER PREMIUM']\n",
    "merge_dataset_qno2_18['CAG * VALUE'] = merge_dataset_qno2_18['CAG'] * merge_dataset_qno2_18['VALUE']\n",
    "x = merge_dataset_qno2_18[['Price per Unit','ACV Weighted Distribution No Merch','ACV Weighted Distribution Any Merch','Price ^ 2(tablespread)','CAG','MAINSTREAM','PREMIUM','SUPER PREMIUM',\n",
    "                           'CAG * MAINSTREAM','CAG * RFG PREMIUM','CAG * SUPER PREMIUM','CAG * VALUE']]\n",
    "\n",
    "y = merge_dataset_qno2_18['Sales'].tolist()\n",
    "\n",
    "# adding the constant term\n",
    "x = sm.add_constant(x)\n",
    "\n",
    "# performing the regression\n",
    "# and fitting the model\n",
    "result = sm.OLS(y, x).fit()\n",
    "# printing the summary table\n",
    "print(result.summary())"
   ]
  },
  {
   "cell_type": "code",
   "execution_count": 144,
   "metadata": {
    "colab": {
     "base_uri": "https://localhost:8080/"
    },
    "id": "wLh_r_vqPN3o",
    "outputId": "4661cb76-f1a7-40a0-fa68-ad652e616ce6"
   },
   "outputs": [
    {
     "data": {
      "text/plain": [
       "Index([                       'UPC 13 digit',\n",
       "                                      'Time',\n",
       "                            'Price per Unit',\n",
       "        'ACV Weighted Distribution No Merch',\n",
       "       'ACV Weighted Distribution Any Merch',\n",
       "                                     'Sales',\n",
       "                    'Price ^ 2(tablespread)',\n",
       "                                       'CAG',\n",
       "                         'Sub-Category Name',\n",
       "                           'CAG Count Value',\n",
       "                            'CAG Form Value',\n",
       "                                    'Ounces',\n",
       "                            'CAG Tier Value',\n",
       "                                           1,\n",
       "                                           2,\n",
       "                                           3,\n",
       "                                           4,\n",
       "                                           5,\n",
       "                                           8,\n",
       "                                          12,\n",
       "                                          16,\n",
       "                                   'CAG * 1',\n",
       "                                   'CAG * 2',\n",
       "                                   'CAG * 3',\n",
       "                                   'CAG * 4',\n",
       "                                   'CAG * 5',\n",
       "                                   'CAG * 8',\n",
       "                                  'CAG * 12',\n",
       "                                      '1-16',\n",
       "                                     '17-32',\n",
       "                                     '32-48',\n",
       "                                       '48+',\n",
       "                              'CAG * (1-16)',\n",
       "                             'CAG * (17-32)',\n",
       "                             'CAG * (32-48)',\n",
       "                         'MARGARINE/SPREADS',\n",
       "                                'RFG BUTTER',\n",
       "                         'RFG BUTTER BLENDS',\n",
       "                           'CAG * Margarine',\n",
       "                          'CAG * RFG BUTTER',\n",
       "                                'MAINSTREAM',\n",
       "                                   'PREMIUM',\n",
       "                             'SUPER PREMIUM',\n",
       "                                     'VALUE',\n",
       "                          'CAG * MAINSTREAM',\n",
       "                         'CAG * RFG PREMIUM',\n",
       "                       'CAG * SUPER PREMIUM',\n",
       "                               'CAG * VALUE',\n",
       "                            'ALL OTHER FORM',\n",
       "                             'SPRAY/SQUEEZE',\n",
       "                                    'STICKS',\n",
       "                                      'TUBS'],\n",
       "      dtype='object')"
      ]
     },
     "execution_count": 144,
     "metadata": {},
     "output_type": "execute_result"
    }
   ],
   "source": [
    "one_hot = pd.get_dummies(merge_dataset_qno2_18['CAG Form Value'])\n",
    "merge_dataset_qno2_18 = pd.concat([merge_dataset_qno2_18, one_hot], axis=1)\n",
    "merge_dataset_qno2_18.columns"
   ]
  },
  {
   "cell_type": "code",
   "execution_count": 145,
   "metadata": {
    "colab": {
     "base_uri": "https://localhost:8080/"
    },
    "id": "sK2NoRAgQCA5",
    "outputId": "18b7115c-5b93-4a4b-c1ac-62edbf1e4eff"
   },
   "outputs": [
    {
     "name": "stdout",
     "output_type": "stream",
     "text": [
      "                            OLS Regression Results                            \n",
      "==============================================================================\n",
      "Dep. Variable:                      y   R-squared:                       0.392\n",
      "Model:                            OLS   Adj. R-squared:                  0.392\n",
      "Method:                 Least Squares   F-statistic:                     5327.\n",
      "Date:                Fri, 21 Apr 2023   Prob (F-statistic):               0.00\n",
      "Time:                        23:58:08   Log-Likelihood:            -8.3302e+05\n",
      "No. Observations:               66222   AIC:                         1.666e+06\n",
      "Df Residuals:                   66213   BIC:                         1.666e+06\n",
      "Df Model:                           8                                         \n",
      "Covariance Type:            nonrobust                                         \n",
      "=======================================================================================================\n",
      "                                          coef    std err          t      P>|t|      [0.025      0.975]\n",
      "-------------------------------------------------------------------------------------------------------\n",
      "const                                 754.8367    881.657      0.856      0.392    -973.211    2482.884\n",
      "Price per Unit                      -2814.6079    146.877    -19.163      0.000   -3102.486   -2526.730\n",
      "ACV Weighted Distribution No Merch   4527.3454     32.904    137.592      0.000    4462.853    4591.838\n",
      "ACV Weighted Distribution Any Merch  8732.6953    142.413     61.320      0.000    8453.566    9011.824\n",
      "Price ^ 2(tablespread)                 35.4713      2.361     15.022      0.000      30.843      40.099\n",
      "CAG                                 -8799.0165   1332.176     -6.605      0.000   -1.14e+04   -6187.951\n",
      "SPRAY/SQUEEZE                       -4.415e+04   2946.901    -14.981      0.000   -4.99e+04   -3.84e+04\n",
      "STICKS                               1.307e+04    747.123     17.494      0.000    1.16e+04    1.45e+04\n",
      "TUBS                                -1.168e+04    754.831    -15.479      0.000   -1.32e+04   -1.02e+04\n",
      "==============================================================================\n",
      "Omnibus:                   142942.084   Durbin-Watson:                   0.260\n",
      "Prob(Omnibus):                  0.000   Jarque-Bera (JB):       1374857451.239\n",
      "Skew:                          19.134   Prob(JB):                         0.00\n",
      "Kurtosis:                     707.846   Cond. No.                     2.41e+03\n",
      "==============================================================================\n",
      "\n",
      "Notes:\n",
      "[1] Standard Errors assume that the covariance matrix of the errors is correctly specified.\n",
      "[2] The condition number is large, 2.41e+03. This might indicate that there are\n",
      "strong multicollinearity or other numerical problems.\n"
     ]
    }
   ],
   "source": [
    "x = merge_dataset_qno2_18[['Price per Unit','ACV Weighted Distribution No Merch','ACV Weighted Distribution Any Merch','Price ^ 2(tablespread)','CAG','SPRAY/SQUEEZE','STICKS','TUBS']]\n",
    "\n",
    "y = merge_dataset_qno2_18['Sales'].tolist()\n",
    "\n",
    "# adding the constant term\n",
    "x = sm.add_constant(x)\n",
    "\n",
    "# performing the regression\n",
    "# and fitting the model\n",
    "result = sm.OLS(y, x).fit()\n",
    "# printing the summary table\n",
    "print(result.summary())"
   ]
  },
  {
   "cell_type": "code",
   "execution_count": 147,
   "metadata": {
    "colab": {
     "base_uri": "https://localhost:8080/"
    },
    "id": "LDp3mMSSQP6N",
    "outputId": "b759782c-180d-4c55-e06a-8b353edc3a1e"
   },
   "outputs": [
    {
     "name": "stdout",
     "output_type": "stream",
     "text": [
      "                            OLS Regression Results                            \n",
      "==============================================================================\n",
      "Dep. Variable:                      y   R-squared:                       0.499\n",
      "Model:                            OLS   Adj. R-squared:                  0.498\n",
      "Method:                 Least Squares   F-statistic:                     5985.\n",
      "Date:                Sat, 22 Apr 2023   Prob (F-statistic):               0.00\n",
      "Time:                        00:03:29   Log-Likelihood:            -8.2661e+05\n",
      "No. Observations:               66222   AIC:                         1.653e+06\n",
      "Df Residuals:                   66210   BIC:                         1.653e+06\n",
      "Df Model:                          11                                         \n",
      "Covariance Type:            nonrobust                                         \n",
      "=======================================================================================================\n",
      "                                          coef    std err          t      P>|t|      [0.025      0.975]\n",
      "-------------------------------------------------------------------------------------------------------\n",
      "const                               -5657.7569    803.152     -7.044      0.000   -7231.934   -4083.579\n",
      "Price per Unit                      -2111.9202    133.685    -15.798      0.000   -2373.943   -1849.897\n",
      "ACV Weighted Distribution No Merch   4054.6188     30.180    134.347      0.000    3995.466    4113.772\n",
      "ACV Weighted Distribution Any Merch  8884.8990    129.849     68.425      0.000    8630.394    9139.404\n",
      "Price ^ 2(tablespread)                 26.7353      2.147     12.451      0.000      22.527      30.944\n",
      "CAG                                  2.031e+05   2249.185     90.312      0.000    1.99e+05    2.08e+05\n",
      "SPRAY/SQUEEZE                       -4.206e+04   3139.383    -13.398      0.000   -4.82e+04   -3.59e+04\n",
      "STICKS                                1.85e+04    681.837     27.126      0.000    1.72e+04    1.98e+04\n",
      "TUBS                                -3891.1226    691.939     -5.624      0.000   -5247.324   -2534.921\n",
      "CAG * SPRAY/SQUEEZE                 -1.896e+05   4909.871    -38.607      0.000   -1.99e+05    -1.8e+05\n",
      "CAG * STICKS                        -2.281e+05   3033.991    -75.176      0.000   -2.34e+05   -2.22e+05\n",
      "CAG * TUBS                          -2.274e+05   2444.074    -93.027      0.000   -2.32e+05   -2.23e+05\n",
      "CAG * ALL OTHER FORM                 8.481e+05   7293.465    116.286      0.000    8.34e+05    8.62e+05\n",
      "==============================================================================\n",
      "Omnibus:                   151825.017   Durbin-Watson:                   0.306\n",
      "Prob(Omnibus):                  0.000   Jarque-Bera (JB):       2514340695.591\n",
      "Skew:                          21.969   Prob(JB):                         0.00\n",
      "Kurtosis:                     956.578   Cond. No.                     1.96e+18\n",
      "==============================================================================\n",
      "\n",
      "Notes:\n",
      "[1] Standard Errors assume that the covariance matrix of the errors is correctly specified.\n",
      "[2] The smallest eigenvalue is 8.52e-28. This might indicate that there are\n",
      "strong multicollinearity problems or that the design matrix is singular.\n"
     ]
    }
   ],
   "source": [
    "merge_dataset_qno2_18['CAG * SPRAY/SQUEEZE'] = merge_dataset_qno2_18['CAG'] * merge_dataset_qno2_18['SPRAY/SQUEEZE']\n",
    "merge_dataset_qno2_18['CAG * STICKS'] = merge_dataset_qno2_18['CAG'] * merge_dataset_qno2_18['STICKS']\n",
    "merge_dataset_qno2_18['CAG * TUBS'] = merge_dataset_qno2_18['CAG'] * merge_dataset_qno2_18['TUBS']\n",
    "merge_dataset_qno2_18['CAG * ALL OTHER FORM'] = merge_dataset_qno2_18['CAG'] * merge_dataset_qno2_18['ALL OTHER FORM']\n",
    "x = merge_dataset_qno2_18[['Price per Unit','ACV Weighted Distribution No Merch','ACV Weighted Distribution Any Merch','Price ^ 2(tablespread)','CAG','SPRAY/SQUEEZE','STICKS','TUBS',\n",
    "                           'CAG * SPRAY/SQUEEZE','CAG * STICKS','CAG * TUBS','CAG * ALL OTHER FORM']]\n",
    "\n",
    "y = merge_dataset_qno2_18['Sales'].tolist()\n",
    "\n",
    "# adding the constant term\n",
    "x = sm.add_constant(x)\n",
    "\n",
    "# performing the regression\n",
    "# and fitting the model\n",
    "result = sm.OLS(y, x).fit()\n",
    "# printing the summary table\n",
    "print(result.summary())"
   ]
  },
  {
   "cell_type": "code",
   "execution_count": 148,
   "metadata": {
    "id": "lBPcnhUwQ4qQ"
   },
   "outputs": [],
   "source": [
    "merge_dataset_qno2_18.to_csv('merge_dataset_qno2_18.csv',index=True)"
   ]
  },
  {
   "cell_type": "code",
   "execution_count": 149,
   "metadata": {
    "id": "FsFw5wPCR16I"
   },
   "outputs": [],
   "source": [
    "merge_dataset_qno2_19.to_csv('merge_dataset_qno2_19.csv',index=True)\n",
    "merge_dataset_qno2_20.to_csv('merge_dataset_qno2_20.csv',index=True)\n",
    "merge_dataset_qno2_21.to_csv('merge_dataset_qno2_21.csv',index=True) \n",
    "merge_dataset_qno2_22.to_csv('merge_dataset_qno2_22.csv',index=True) "
   ]
  },
  {
   "cell_type": "code",
   "execution_count": null,
   "metadata": {
    "id": "5yQWLcW2STLa"
   },
   "outputs": [],
   "source": []
  }
 ],
 "metadata": {
  "colab": {
   "provenance": []
  },
  "kernelspec": {
   "display_name": "Python 3 (ipykernel)",
   "language": "python",
   "name": "python3"
  },
  "language_info": {
   "codemirror_mode": {
    "name": "ipython",
    "version": 3
   },
   "file_extension": ".py",
   "mimetype": "text/x-python",
   "name": "python",
   "nbconvert_exporter": "python",
   "pygments_lexer": "ipython3",
   "version": "3.11.1"
  }
 },
 "nbformat": 4,
 "nbformat_minor": 1
}
